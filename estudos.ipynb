{
 "cells": [
  {
   "cell_type": "markdown",
   "metadata": {},
   "source": [
    "/*Você foi contratado para criar um sistema de gerenciamento de alunos em uma escola. Sua tarefa é criar uma classe chamada Turma que funcionará como um contêiner para armazenar informações sobre os alunos de uma turma. A classe Turma deve incluir um construtor para inicializar os atributos e um destrutor para imprimir uma mensagem quando a instância for destruída. Além disso, você deve implementar métodos para adicionar e remover alunos da turma, bem como para listar os alunos matriculados.*/\n",
    "\n",
    "/*Requisitos:\n",
    "• A classe Turma deve conter um atributo alunos, que será\n",
    "uma lista para armazenar os nomes dos alunos.\n",
    "• O construtor __init__ deve aceitar o nome da turma como\n",
    "parâmetro e inicializar a lista de alunos.\n",
    "• A classe deve ter um método adicionar_aluno que permita\n",
    "adicionar um aluno à turma.\n",
    "• A classe deve ter um método remover_aluno que permita\n",
    "remover um aluno da turma.\n",
    "• A classe deve ter um método listar_alunos que exiba os\n",
    "nomes dos alunos matriculados.\n",
    "• O destrutor __del__ deve imprimir uma mensagem\n",
    "informando que a instância da turma está sendo\n",
    "destruída.*/"
   ]
  },
  {
   "cell_type": "code",
   "execution_count": 5,
   "metadata": {},
   "outputs": [
    {
     "name": "stdout",
     "output_type": "stream",
     "text": [
      "Aluno não encontrado\n",
      "Vicenius\n",
      "Matheus\n",
      "Maria Fernanda\n"
     ]
    }
   ],
   "source": [
    "class turma:\n",
    "    def __init__(self):\n",
    "        self.alunos = []\n",
    "\n",
    "    def add_aluno(self, alunos):\n",
    "        self.alunos.append(alunos)\n",
    "\n",
    "    def remove_aluno(self, alunos):\n",
    "        if alunos in self.alunos:\n",
    "            self.alunos.remove(alunos)\n",
    "        else:\n",
    "            print(\"Aluno não encontrado\")\n",
    "\n",
    "    def listar_alunos(self):\n",
    "        for alunos in self.alunos:\n",
    "            print(alunos)\n",
    "\n",
    "Periodo = turma()\n",
    "Periodo.add_aluno(\"Vicenius\")\n",
    "Periodo.add_aluno(\"Matheus\")\n",
    "Periodo.add_aluno(\"Maria Fernanda\")\n",
    "Periodo.add_aluno(\"Rafaela\")\n",
    "Periodo.remove_aluno(\"Rafaela\")\n",
    "Periodo.remove_aluno(\"Gabriel\")\n",
    "Periodo.listar_alunos()"
   ]
  }
 ],
 "metadata": {
  "kernelspec": {
   "display_name": "Python 3",
   "language": "python",
   "name": "python3"
  },
  "language_info": {
   "codemirror_mode": {
    "name": "ipython",
    "version": 3
   },
   "file_extension": ".py",
   "mimetype": "text/x-python",
   "name": "python",
   "nbconvert_exporter": "python",
   "pygments_lexer": "ipython3",
   "version": "3.10.12"
  }
 },
 "nbformat": 4,
 "nbformat_minor": 2
}
