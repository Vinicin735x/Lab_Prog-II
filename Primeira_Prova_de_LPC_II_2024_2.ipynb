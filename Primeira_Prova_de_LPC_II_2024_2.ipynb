{
  "cells": [
    {
      "cell_type": "markdown",
      "metadata": {
        "id": "lPnGgjB-huuv"
      },
      "source": [
        "# 1ª Prova de Laboratório de Programação de Computadores II\n",
        "\n",
        "**Instruções:**\n",
        "* Consulta apenas ao material impresso\n",
        "* Ao final da prova salvar o arquivo com seu nome completo separando o sobrenome com underscore. Exemplo: Eduardo_Gomes_Carvalho.ipynb\n",
        "* O professor não está disponível para tirar dúvidas no momento da prova."
      ]
    },
    {
      "cell_type": "markdown",
      "metadata": {
        "id": "EuQx8_8IiUnL"
      },
      "source": [
        "**1ª Questão (6 pontos)**\n",
        "\n",
        "Implemente um programa em Python que execute o seguinte procedimento:\n",
        "\n",
        "\n",
        "1.   Crie uma lista P1 e permita que o usuário insira números inteiros para preenchê-la. O programa deve solicitar ao usuário que insira um número inteiro repetidamente até que o valor 0 seja digitado, o que encerrará a inserção e não deve ser incluído na lista P1. Depois crie uma lista P2 vazia. **(3 pontos)**\n",
        "2.   Implemente a função TrocaLista(P1, P2) que transfere todos os elementos da lista P1 para uma nova lista P2 em ordem inversa. Utilize um laço while dentro da função para remover elementos de P1 e adicioná-los a P2. **(3 pontos)**"
      ]
    },
    {
      "cell_type": "code",
      "execution_count": 1,
      "metadata": {
        "id": "TaJfncrRij0z"
      },
      "outputs": [
        {
          "name": "stdout",
          "output_type": "stream",
          "text": [
            "Lista 1: []\n",
            "Lista 2: [4, 3, 2, 1]\n"
          ]
        }
      ],
      "source": [
        "P1 = []\n",
        "while True:\n",
        "    num = int(input(\"Digite um número inteiro. Digite 0 para encerrar: \"))\n",
        "    if num == 0:\n",
        "        break\n",
        "    P1.append(num)\n",
        "\n",
        "P2 = []\n",
        "def TrocaLista(P1, P2):\n",
        "    while P1:\n",
        "        P2.append(P1.pop())\n",
        "TrocaLista(P1, P2)\n",
        "\n",
        "print(f\"Lista 1: {P1}\")\n",
        "print(f\"Lista 2: {P2}\")\n",
        "    \n",
        "\n",
        "\n"
      ]
    },
    {
      "cell_type": "markdown",
      "metadata": {
        "id": "VrwS2Di2mcu0"
      },
      "source": [
        "**2ª Questão (6 pontos)**\n",
        "\n",
        "Implemente um programa em Python que transforme a lista L=[\"Pedro, 8\", \"João, 9\", \"Paulo, 0\", \"Eduardo, 10\", \"Lázaro, 10\"], que possui o nome do aluno e sua nota em uma prova, separados por vírgula, em um dicionário. Lembre-se que a nota no dicionário deve ser do tipo inteira."
      ]
    },
    {
      "cell_type": "code",
      "execution_count": 11,
      "metadata": {
        "id": "OENbu0L2m7Z_"
      },
      "outputs": [
        {
          "name": "stdout",
          "output_type": "stream",
          "text": [
            "{'Pedro': 8, 'João': 9, 'Paulo': 0, 'Eduardo': 10, 'Lázaro': 10}\n"
          ]
        }
      ],
      "source": [
        "L=[\"Pedro, 8\", \"João, 9\", \"Paulo, 0\", \"Eduardo, 10\", \"Lázaro, 10\"]\n",
        "dicionario = {}\n",
        "for item in L:\n",
        "    nome, nota = item.split(\", \")\n",
        "    dicionario[nome] = int(nota)\n",
        "print(dicionario)\n"
      ]
    },
    {
      "cell_type": "markdown",
      "metadata": {
        "id": "uAEV-dXooGN3"
      },
      "source": [
        "**3ª Questão (8 pontos)**\n",
        "\n",
        "Implemente a classe para o programa abaixo, considerando que :\n",
        "* abastecerPorValor( ) – verificar se o usuário inseriu um valor menor ou igual a zero e apresentar uma mensagem \"Valor inválido para abastecimento. Imprimir a litragem e o valor a pagar utilizando 2 casas decimais. **(3 pontos)**\n",
        "* abastecerPorLitro( ) – verificar se o usuário inseriu um valor menor ou igual a zero e apresentar uma mensagem \"Valor inválido para abastecimento. Imprimir a litragem e o valor a pagar utilizando 2 casas decimais. **(3 pontos)**\n",
        "* a correta criação da classe e do construtor será avaliada em 2 pontos\n",
        "\n",
        "Exemplo de saída:\n",
        "\n",
        "Abastecer por valor (V) ou por litro (L)? L\n",
        "\n",
        "Digite a quantidade de litros desejada: 10\n",
        "\n",
        "Valor a ser pago: R$55.00 por 10.00 litros.\n"
      ]
    },
    {
      "cell_type": "code",
      "execution_count": null,
      "metadata": {
        "id": "LMZ2aQttooMB"
      },
      "outputs": [
        {
          "name": "stdout",
          "output_type": "stream",
          "text": [
            "Foram abastecidos: 40.00 por: 261.60 reais\n"
          ]
        }
      ],
      "source": [
        "# Criar a classe aqui\n",
        "class bombaCombustivel:\n",
        "  def __init__(self, tipo, preco_por_litro):\n",
        "    self.tipo = tipo\n",
        "    self.preco = preco_por_litro\n",
        "\n",
        "  def abastecerPorValor(self, valor_total):\n",
        "        if valor_total <= 0:\n",
        "            print(\"Valor inválido para abastecimento\")\n",
        "        else:\n",
        "            self.combustivel = valor_total / self.preco\n",
        "            print(f\"Valor a ser pago: {valor_total:.2f} reais por : {self.combustivel:.2f} litros\")\n",
        "\n",
        "  def abastecerPorLitro(self, valor_litro):\n",
        "        if valor_litro <= 0:\n",
        "            print(\"Valor inválido para abastecimento\")\n",
        "        else:\n",
        "            self.litros = valor_litro * self.preco\n",
        "            print(f\"Foram abastecidos: {valor_litro:.2f} litros por: {self.litros:.2f} reais\")\n",
        "\n",
        "bomba = bombaCombustivel(\"gasolina\", 6.54)\n",
        "\n",
        "opcao = input(\"Digite uma opção: Valor(V), litro(L): \").upper()\n",
        "\n",
        "if opcao == \"V\":\n",
        "  valor = float(input(\"Digite o valor a ser abastecido: \"))\n",
        "  bomba.abastecerPorValor(valor)\n",
        "elif opcao == \"L\":\n",
        "  litros = float(input(\"Digite a quantidade de litros desejada: \"))\n",
        "  bomba.abastecerPorLitro(litros)\n",
        "else:\n",
        "  print(\"Opção inválida\")\n"
      ]
    },
    {
      "cell_type": "markdown",
      "metadata": {
        "id": "EkmM_Krer6Qo"
      },
      "source": [
        "**4ª Questão (5 pontos)**\n",
        "\n",
        "Corrija o programa abaixo, de forma que ele execute corretamente. Ao final ele deve imprimir:\n",
        "\n",
        "Total da compra: 6.0"
      ]
    },
    {
      "cell_type": "code",
      "execution_count": null,
      "metadata": {},
      "outputs": [
        {
          "name": "stdout",
          "output_type": "stream",
          "text": [
            "Carrinho de compras foi destruído.\n",
            "Carrinho de compras foi destruído.\n",
            "Carrinho de compras foi destruído.\n",
            "Carrinho de compras foi destruído.\n"
          ]
        },
        {
          "ename": "TypeError",
          "evalue": "unsupported operand type(s) for +=: 'int' and 'str'",
          "output_type": "error",
          "traceback": [
            "\u001b[0;31m---------------------------------------------------------------------------\u001b[0m",
            "\u001b[0;31mTypeError\u001b[0m                                 Traceback (most recent call last)",
            "Cell \u001b[0;32mIn[28], line 24\u001b[0m\n\u001b[1;32m     21\u001b[0m carrinho\u001b[38;5;241m.\u001b[39madicionar_item(\u001b[38;5;124m\"\u001b[39m\u001b[38;5;124mMaçã\u001b[39m\u001b[38;5;124m\"\u001b[39m, \u001b[38;5;241m3\u001b[39m, \u001b[38;5;124m'\u001b[39m\u001b[38;5;124m1.5\u001b[39m\u001b[38;5;124m'\u001b[39m)\n\u001b[1;32m     22\u001b[0m carrinho\u001b[38;5;241m.\u001b[39madicionar_item(\u001b[38;5;124m\"\u001b[39m\u001b[38;5;124mBanana\u001b[39m\u001b[38;5;124m\"\u001b[39m, \u001b[38;5;241m2\u001b[39m, \u001b[38;5;124m'\u001b[39m\u001b[38;5;124m0.75\u001b[39m\u001b[38;5;124m'\u001b[39m)\n\u001b[0;32m---> 24\u001b[0m total \u001b[38;5;241m=\u001b[39m \u001b[43mcarrinho\u001b[49m\u001b[38;5;241;43m.\u001b[39;49m\u001b[43mcalcular_total\u001b[49m\u001b[43m(\u001b[49m\u001b[43m)\u001b[49m\n\u001b[1;32m     25\u001b[0m \u001b[38;5;28mprint\u001b[39m(\u001b[38;5;124m\"\u001b[39m\u001b[38;5;124mTotal da compra:\u001b[39m\u001b[38;5;124m\"\u001b[39m, total)\n",
            "Cell \u001b[0;32mIn[28], line 14\u001b[0m, in \u001b[0;36mCarrinhoCompras.calcular_total\u001b[0;34m(self)\u001b[0m\n\u001b[1;32m     12\u001b[0m total \u001b[38;5;241m=\u001b[39m \u001b[38;5;241m0\u001b[39m\n\u001b[1;32m     13\u001b[0m \u001b[38;5;28;01mfor\u001b[39;00m item \u001b[38;5;129;01min\u001b[39;00m \u001b[38;5;28mself\u001b[39m\u001b[38;5;241m.\u001b[39mitens:\n\u001b[0;32m---> 14\u001b[0m     total \u001b[38;5;241m+\u001b[39m\u001b[38;5;241m=\u001b[39m item[\u001b[38;5;124m'\u001b[39m\u001b[38;5;124mquantidade\u001b[39m\u001b[38;5;124m'\u001b[39m] \u001b[38;5;241m*\u001b[39m item[\u001b[38;5;124m'\u001b[39m\u001b[38;5;124mpreco_unitario\u001b[39m\u001b[38;5;124m'\u001b[39m]\n\u001b[1;32m     15\u001b[0m \u001b[38;5;28;01mreturn\u001b[39;00m total\n",
            "\u001b[0;31mTypeError\u001b[0m: unsupported operand type(s) for +=: 'int' and 'str'"
          ]
        }
      ],
      "source": [
        "class CarrinhoCompras:\n",
        "    def __init__(self):\n",
        "        self.itens = []\n",
        "\n",
        "    def adicionar_item(self, nome, quantidade, preco_unitario):\n",
        "        if quantidade <= 0:\n",
        "            print(\"Erro: A quantidade deve ser positiva.\")\n",
        "        else:\n",
        "            self.itens.append({'nome': nome, 'quantidade': quantidade, 'preco_unitario': preco_unitario})\n",
        "\n",
        "    def calcular_total(self):\n",
        "        total = 0\n",
        "        for item in self.itens:\n",
        "            total += item['quantidade'] * item['preco']\n",
        "        return total\n",
        "\n",
        "    def __del__(self):\n",
        "        print(\"Carrinho de compras foi destruído.\")\n",
        "\n",
        "carrinho = CarrinhoCompras()\n",
        "carrinho.adicionar_item(\"Maçã\", 3, '1,5')\n",
        "carrinho.adicionar_item(\"Banana\", 2, '0,75')\n",
        "\n",
        "total = carrinho.calcular_total()\n",
        "print(\"Total da compra:\", total)"
      ]
    },
    {
      "cell_type": "code",
      "execution_count": 2,
      "metadata": {
        "id": "9UZg2KJ0wxil"
      },
      "outputs": [
        {
          "name": "stdout",
          "output_type": "stream",
          "text": [
            "Total da compra: 6.0\n"
          ]
        }
      ],
      "source": [
        "#Programa corrijido\n",
        "\n",
        "class CarrinhoCompras:\n",
        "    def __init__(self):\n",
        "        self.itens = []\n",
        "\n",
        "    def adicionar_item(self, nome, quantidade, preco_unitario):\n",
        "        if quantidade <= 0:\n",
        "            print(\"Erro: A quantidade deve ser positiva.\")\n",
        "        else:\n",
        "            self.itens.append({'nome': nome, 'quantidade': quantidade, 'preco_unitario': preco_unitario})\n",
        "\n",
        "    def calcular_total(self):\n",
        "        total = 0\n",
        "        for item in self.itens:\n",
        "            total += item['quantidade'] * item['preco_unitario']\n",
        "        return total\n",
        "\n",
        "    def __del__(self):\n",
        "        print(\"Carrinho de compras foi destruído.\")\n",
        "\n",
        "carrinho = CarrinhoCompras()\n",
        "carrinho.adicionar_item(\"Maçã\", 3, 1.5)\n",
        "carrinho.adicionar_item(\"Banana\", 2, 0.75)\n",
        "\n",
        "total = carrinho.calcular_total()\n",
        "print(\"Total da compra:\", total)\n"
      ]
    }
  ],
  "metadata": {
    "colab": {
      "provenance": []
    },
    "kernelspec": {
      "display_name": "Python 3",
      "name": "python3"
    },
    "language_info": {
      "codemirror_mode": {
        "name": "ipython",
        "version": 3
      },
      "file_extension": ".py",
      "mimetype": "text/x-python",
      "name": "python",
      "nbconvert_exporter": "python",
      "pygments_lexer": "ipython3",
      "version": "3.10.12"
    }
  },
  "nbformat": 4,
  "nbformat_minor": 0
}
