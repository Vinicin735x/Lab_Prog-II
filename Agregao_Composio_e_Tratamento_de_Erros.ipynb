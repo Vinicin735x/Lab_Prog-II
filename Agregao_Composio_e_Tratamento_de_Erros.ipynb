{
  "cells": [
    {
      "cell_type": "markdown",
      "metadata": {
        "id": "gRtVaW5waq-P"
      },
      "source": [
        "# Agregação e Composição\n",
        "\n",
        "Agregação e composição são dois conceitos fundamentais na programação orientada a objetos que descrevem relações entre classes, particularmente como objetos de uma classe são usados por objetos de outra.\n",
        "\n",
        "\n",
        "**Agregação**\n",
        "Essa também é uma relação todo/parte, porém, nesse caso dizemos que a parte é compartilhada por outros.\n",
        "Isso significa que a parte de um tipo A está contida em um tipo B, quando esse tem relação de agregação entre eles, porém, essa mesma parte A não existe somente para compor B, essa parte pode agregar outros tipos.\n",
        "\n"
      ]
    },
    {
      "cell_type": "code",
      "execution_count": null,
      "metadata": {
        "id": "fLz7N7Fna5Oh"
      },
      "outputs": [],
      "source": [
        "class Aluno:\n",
        "    def __init__(self, nome, matricula):\n",
        "        self.nome = nome\n",
        "        self.matricula = matricula\n",
        "\n",
        "class Turma:\n",
        "    def __init__(self, nome):\n",
        "        self.nome = nome\n",
        "        self.alunos = []  # A agregação ocorre aqui, uma turma contém uma lista de alunos\n",
        "\n",
        "    def adicionar_aluno(self, aluno):\n",
        "        self.alunos.append(aluno)\n",
        "\n",
        "    def listar_alunos(self):\n",
        "        print(f\"Alunos da turma {self.nome}:\")\n",
        "        for aluno in self.alunos:\n",
        "            print(f\"Nome: {aluno.nome}, Matrícula: {aluno.matricula}\")\n"
      ]
    },
    {
      "cell_type": "markdown",
      "metadata": {
        "id": "vsld159Abgoz"
      },
      "source": [
        "**Composição**\n",
        "\n",
        "Toda vez que dizemos que a relação entre duas classe é de composição estamos dizendo que uma dessas classe (a Parte) está contida na outra (o Todo) e a parte não vive/não existe sem o todo.\n",
        "Sendo assim, toda vez que destruirmos o todo, a parte que é única e exclusiva do todo se vai junto. Por esse motivo que algum dizem que: a parte está contida no todo.\n",
        "Quando se joga o todo fora, a parte estava dentro e se vai junto."
      ]
    },
    {
      "cell_type": "code",
      "execution_count": null,
      "metadata": {
        "id": "ObNdSlmgbs2-"
      },
      "outputs": [],
      "source": [
        "class Dependente:\n",
        "    def __init__(self, nome, idade):\n",
        "        self.nome = nome\n",
        "        self.idade = idade\n",
        "\n",
        "class Funcionario:\n",
        "    def __init__(self, nome, cargo):\n",
        "        self.nome = nome\n",
        "        self.cargo = cargo\n",
        "        self.dependentes = []\n",
        "\n",
        "    def adicionar_dependente(self, nome, idade):\n",
        "        self.dependentes.append(Dependente(nome, idade))\n",
        "\n",
        "    def listar_dependentes(self):\n",
        "        for dep in self.dependentes:\n",
        "            print(f\"{dep.nome}, {dep.idade} anos\")\n",
        "\n",
        "funcionario = Funcionario(\"Carlos\", \"Engenheiro\")\n",
        "funcionario.adicionar_dependente(\"Ana\", 8)\n",
        "del funcionario\n"
      ]
    },
    {
      "cell_type": "markdown",
      "metadata": {
        "id": "9blB9NFJcJ2Y"
      },
      "source": [
        "**Exercício 1**\n",
        "\n",
        "Você foi contratado para desenvolver um sistema de gerenciamento de escolas. Nesse sistema, cada Escola pode conter vários Professores, mas os Professores podem existir independentemente da Escola. Sua tarefa é implementar a relação de agregação entre as classes Escola e Professor, além de um método para exibir informações sobre a escola e seus professores.\n",
        "\n",
        "Crie uma classe Professor com os seguintes atributos e métodos:\n",
        "\n",
        "* nome (string)\n",
        "* disciplina (string)\n",
        "* Método __ init __ para inicializar os atributos.\n",
        "* Método __ str __ para retornar uma representação em texto do professor.\n",
        "\n",
        "Crie uma classe Escola com os seguintes atributos e métodos:\n",
        "\n",
        "* nome (string)\n",
        "* professores (lista de objetos Professor)\n",
        "* Método __ init __ para inicializar o nome da escola e a lista de professores como vazia.\n",
        "* Método adicionar_professor para adicionar um professor à lista.\n",
        "* Método exibir_detalhes para exibir o nome da escola e a lista de professores associados.\n",
        "\n",
        "Implemente um programa que:\n",
        "\n",
        "* Crie três instâncias de Professor.\n",
        "* Crie uma instância de Escola.\n",
        "* Adicione os professores à escola usando o método adicionar_professor.\n",
        "* Exiba os detalhes da escola e seus professores usando o método exibir_detalhes.\n",
        "\n",
        "Ao final o programa deve exibir:\n",
        "\n",
        "Escola: Escola Municipal ABC\n",
        "\n",
        "Professores:\n",
        "- Nome: Ana, Disciplina: Matemática\n",
        "- Nome: Bruno, Disciplina: História\n",
        "- Nome: Carla, Disciplina: Ciências\n"
      ]
    },
    {
      "cell_type": "code",
      "execution_count": 10,
      "metadata": {
        "id": "FwHQPOo2xBtM"
      },
      "outputs": [
        {
          "name": "stdout",
          "output_type": "stream",
          "text": [
            "Escola: CEFET\n",
            "Professores\n",
            "- Nome: Cleber, Disciplina: Física\n",
            "- Nome: Niltin, Disciplina: Calculo\n",
            "- Nome: Rosicler, Disciplina: Matematica\n"
          ]
        }
      ],
      "source": [
        "class Professor:\n",
        "    def __init__(self, nome, disciplina):\n",
        "        self.nome = nome\n",
        "        self.disciplina = disciplina\n",
        "\n",
        "    def __str__(self):\n",
        "        return(f\"Nome: {self.nome}, Disciplina: {self.disciplina}\")\n",
        "    \n",
        "class Escola:\n",
        "    def __init__(self, nome):\n",
        "        self.nome = nome\n",
        "        self.professores = []\n",
        "\n",
        "    def adicionar_professor(self, professor):\n",
        "        self.professores.append(professor)\n",
        "\n",
        "    def exibir_detalhes(self):\n",
        "        print(f\"Escola: {self.nome}\")\n",
        "        print(f\"Professores\")\n",
        "        for prof in self.professores:\n",
        "            print(f\"- {prof}\")\n",
        "        \n",
        "\n",
        "prof = Professor(\"Cleber\", \"Física\")\n",
        "prof2 = Professor(\"Niltin\", \"Calculo\")\n",
        "prof3 = Professor(\"Rosicler\", \"Matematica\")\n",
        "\n",
        "school = Escola(\"CEFET\")\n",
        "school.adicionar_professor(prof)\n",
        "school.adicionar_professor(prof2)\n",
        "school.adicionar_professor(prof3)\n",
        "school.exibir_detalhes()"
      ]
    },
    {
      "cell_type": "markdown",
      "metadata": {
        "id": "4TL8C3dVdAwK"
      },
      "source": [
        "**Exercício 2**\n",
        "\n",
        "Você está desenvolvendo um sistema para uma construtora que gerencia Casas. Cada Casa é composta por Cômodos, e esses Cômodos não podem existir sem a Casa que os contém. Sua tarefa é implementar essa relação de composição entre as classes Casa e Comodo.\n",
        "\n",
        "Crie uma classe Comodo com os seguintes atributos e métodos:\n",
        "\n",
        "* nome (string) - o nome do cômodo (por exemplo, \"Sala\", \"Quarto\", \"Cozinha\").\n",
        "* area (float) - a área do cômodo em metros quadrados.\n",
        "* Método __ init __ para inicializar os atributos.\n",
        "* Método __ str __ para retornar uma representação textual do cômodo.\n",
        "\n",
        "Crie uma classe Casa com os seguintes atributos e métodos:\n",
        "\n",
        "* endereco (string) - o endereço da casa.\n",
        "* comodos (lista de objetos Comodo).\n",
        "* Método __init__ para inicializar o endereço e criar os cômodos da casa.\n",
        "* Método adicionar_comodo para adicionar um novo cômodo à casa.\n",
        "* Método exibir_detalhes para exibir o endereço e os detalhes de cada cômodo da casa.\n",
        "\n",
        "Implemente um programa que:\n",
        "\n",
        "* Crie uma instância de Casa.\n",
        "* Adicione três cômodos à casa usando o método adicionar_comodo.\n",
        "* Exiba os detalhes da casa e seus cômodos usando o método exibir_detalhes.\n",
        "\n",
        "Ao final, o programa deve exibir algo semelhante a:\n",
        "\n",
        "Casa localizada em: Rua das Flores, 123\n",
        "\n",
        "Cômodos:\n",
        "- Nome: Sala, Área: 20.0 m²\n",
        "- Nome: Cozinha, Área: 15.5 m²\n",
        "- Nome: Quarto, Área: 12.0 m²\n"
      ]
    },
    {
      "cell_type": "code",
      "execution_count": 12,
      "metadata": {
        "id": "gD239YThdglY"
      },
      "outputs": [
        {
          "name": "stdout",
          "output_type": "stream",
          "text": [
            "Casa: Avenida dos Imigrantes, 1000\n",
            "Cômodo\n",
            "- Nome: Sala, Área: 20.0 m²\n",
            "- Nome: Cozinha, Área: 7.5 m²\n",
            "- Nome: Quarto, Área: 12.5 m²\n"
          ]
        }
      ],
      "source": [
        "class Comodo:\n",
        "    def __init__(self, nome, area):\n",
        "        self.nome = nome\n",
        "        self.area = area\n",
        "\n",
        "    def __str__(self):\n",
        "        return f\"Nome: {self.nome}, Área: {self.area} m²\"\n",
        "    \n",
        "class Casa:\n",
        "    def __init__(self, endereco):\n",
        "        self.endereco = endereco\n",
        "        self.comodos = []\n",
        "    \n",
        "    def adicionar_comodo(self, nome, area):\n",
        "        self.comodos.append(Comodo(nome, area))\n",
        "    def exibir_detalhes(self):\n",
        "        print(f\"Casa: {self.endereco}\")\n",
        "        print(\"Cômodo\")\n",
        "        for comodo in self.comodos:\n",
        "            print(f\"- {comodo}\")\n",
        "\n",
        "casa = Casa(\"Avenida dos Imigrantes, 1000\")\n",
        "casa.adicionar_comodo(\"Sala\", 20.0)\n",
        "casa.adicionar_comodo(\"Cozinha\", 7.5)\n",
        "casa.adicionar_comodo(\"Quarto\", 12.5)\n",
        "casa.exibir_detalhes()"
      ]
    },
    {
      "cell_type": "markdown",
      "metadata": {
        "id": "MTVFtjz7qPvc"
      },
      "source": [
        "# Tratamento de Erros e Exceção\n",
        "\n",
        "O tratamento de erros e exceções é uma prática essencial para garantir a robustez e a estabilidade de programas em Python. Durante a execução de um programa, podem ocorrer situações inesperadas, como entradas inválidas, falhas de conexão ou operações matemáticas impossíveis, que geram exceções — eventos que interrompem o fluxo normal do programa.\n",
        "\n",
        "Python oferece uma estrutura eficiente para lidar com essas exceções, permitindo que os desenvolvedores capturem, tratem e respondam a erros de forma controlada, sem encerrar abruptamente a execução. O uso das instruções try, except, else e finally possibilita a criação de blocos de código que detectam e tratam exceções específicas ou genéricas. Além disso, a linguagem permite a criação de exceções personalizadas, proporcionando flexibilidade para lidar com erros específicos do domínio da aplicação.\n",
        "\n",
        "O tratamento de exceções não apenas melhora a experiência do usuário ao evitar falhas inesperadas, mas também facilita a depuração e a manutenção do código, tornando-o mais confiável e seguro."
      ]
    },
    {
      "cell_type": "code",
      "execution_count": null,
      "metadata": {
        "colab": {
          "base_uri": "https://localhost:8080/"
        },
        "id": "XC5FljdgrQgx",
        "outputId": "65100f5a-c376-406f-e035-165015f613cb"
      },
      "outputs": [
        {
          "name": "stdout",
          "output_type": "stream",
          "text": [
            "Digite um número: 0\n",
            "Erro: Divisão por zero não é permitida.\n"
          ]
        }
      ],
      "source": [
        "try:\n",
        "    num = int(input(\"Digite um número: \"))\n",
        "    resultado = 10 / num\n",
        "    print(f\"Resultado: {resultado}\")\n",
        "except ZeroDivisionError:\n",
        "    print(\"Erro: Divisão por zero não é permitida.\")\n",
        "except ValueError:\n",
        "    print(\"Erro: Entrada inválida. Digite um número.\")\n"
      ]
    },
    {
      "cell_type": "code",
      "execution_count": null,
      "metadata": {
        "colab": {
          "base_uri": "https://localhost:8080/"
        },
        "id": "mRJf4Js8rUSU",
        "outputId": "e35b20a6-d6d4-45ef-ccd7-ebdb5814e531"
      },
      "outputs": [
        {
          "name": "stdout",
          "output_type": "stream",
          "text": [
            "Erro: O arquivo não foi encontrado.\n"
          ]
        }
      ],
      "source": [
        "try:\n",
        "    with open(\"arquivo_inexistente.txt\", \"r\") as arquivo:\n",
        "        conteudo = arquivo.read()\n",
        "        print(conteudo)\n",
        "except FileNotFoundError:\n",
        "    print(\"Erro: O arquivo não foi encontrado.\")\n"
      ]
    },
    {
      "cell_type": "code",
      "execution_count": null,
      "metadata": {
        "colab": {
          "base_uri": "https://localhost:8080/"
        },
        "id": "NITJBpxbrpeK",
        "outputId": "f1f3899d-9211-46bf-8d5d-37c6c33e961b"
      },
      "outputs": [
        {
          "name": "stdout",
          "output_type": "stream",
          "text": [
            "Digite o numerador: 2\n",
            "Digite o denominador: a\n",
            "Erro: Entrada inválida. Digite números inteiros.\n"
          ]
        }
      ],
      "source": [
        "try:\n",
        "    num1 = int(input(\"Digite o numerador: \"))\n",
        "    num2 = int(input(\"Digite o deanominador: \"))\n",
        "    resultado = num1 / num2\n",
        "except ZeroDivisionError:\n",
        "    print(\"Erro: Não é possível dividir por zero.\")\n",
        "except ValueError:\n",
        "    print(\"Erro: Entrada inválida. Digite números inteiros.\")\n",
        "else:\n",
        "    print(f\"O resultado da divisão é: {resultado}\")\n"
      ]
    },
    {
      "cell_type": "code",
      "execution_count": null,
      "metadata": {
        "colab": {
          "base_uri": "https://localhost:8080/"
        },
        "id": "0kG5MiYQrqcJ",
        "outputId": "33d6bbc1-c40f-408b-f0ac-ef2646e96a92"
      },
      "outputs": [
        {
          "name": "stdout",
          "output_type": "stream",
          "text": [
            "Digite o nome do arquivo: eu\n",
            "Erro: O arquivo não foi encontrado.\n"
          ]
        }
      ],
      "source": [
        "try:\n",
        "    nome_arquivo = input(\"Digite o nome do arquivo: \")\n",
        "    with open(nome_arquivo, \"r\") as arquivo:\n",
        "        conteudo = arquivo.read()\n",
        "except FileNotFoundError:\n",
        "    print(\"Erro: O arquivo não foi encontrado.\")\n",
        "except PermissionError:\n",
        "    print(\"Erro: Permissão negada para abrir o arquivo.\")\n",
        "else:\n",
        "    print(\"Arquivo lido com sucesso. Conteúdo:\")\n",
        "    print(conteudo)\n"
      ]
    },
    {
      "cell_type": "code",
      "execution_count": null,
      "metadata": {
        "colab": {
          "base_uri": "https://localhost:8080/"
        },
        "id": "RI6vrrjMr2fG",
        "outputId": "372a77f7-20f1-4686-d5e4-85833035174d"
      },
      "outputs": [
        {
          "name": "stdout",
          "output_type": "stream",
          "text": [
            "Digite o nome do arquivo para leitura: eu\n",
            "Erro: Arquivo não encontrado.\n",
            "Processo de leitura finalizado, independente de erro.\n"
          ]
        }
      ],
      "source": [
        "try:\n",
        "    nome_arquivo = input(\"Digite o nome do arquivo para leitura: \")\n",
        "    with open(nome_arquivo, \"r\") as arquivo:\n",
        "        conteudo = arquivo.read()\n",
        "        print(\"Conteúdo do arquivo:\", conteudo)\n",
        "except FileNotFoundError:\n",
        "    print(\"Erro: Arquivo não encontrado.\")\n",
        "except PermissionError:\n",
        "    print(\"Erro: Permissão negada.\")\n",
        "finally:\n",
        "    print(\"Processo de leitura finalizado, independente de erro.\")\n"
      ]
    },
    {
      "cell_type": "code",
      "execution_count": null,
      "metadata": {
        "colab": {
          "base_uri": "https://localhost:8080/"
        },
        "id": "M1chms_yr5iO",
        "outputId": "aa80f335-6d54-4453-e8ea-db156c4aa993"
      },
      "outputs": [
        {
          "name": "stdout",
          "output_type": "stream",
          "text": [
            "Erro ao acessar o banco de dados: no such table: usuarios\n",
            "Conexão com o banco de dados encerrada.\n"
          ]
        }
      ],
      "source": [
        "import sqlite3\n",
        "\n",
        "try:\n",
        "    conexao = sqlite3.connect(\"meu_banco.db\")\n",
        "    cursor = conexao.cursor()\n",
        "    cursor.execute(\"SELECT * FROM usuarios\")\n",
        "    usuarios = cursor.fetchall()\n",
        "    print(\"Usuários:\", usuarios)\n",
        "except sqlite3.DatabaseError as e:\n",
        "    print(f\"Erro ao acessar o banco de dados: {e}\")\n",
        "finally:\n",
        "    if conexao:\n",
        "        conexao.close()\n",
        "        print(\"Conexão com o banco de dados encerrada.\")\n"
      ]
    },
    {
      "cell_type": "markdown",
      "metadata": {
        "id": "-slBdxP6sKbW"
      },
      "source": [
        "**Exercício 3**\n",
        "\n",
        "Você está criando um programa que realiza operações matemáticas (adição, subtração, multiplicação e divisão). O programa deve capturar erros de entrada do usuário e erros matemáticos (como divisão por zero), tratando-os de forma apropriada.\n",
        "\n",
        "Requisitos:\n",
        "\n",
        "O programa deve:\n",
        "* Solicitar ao usuário dois números e uma operação matemática.\n",
        "* Realizar a operação solicitada.\n",
        "* Capturar e exibir erros se o usuário fornecer entradas inválidas ou se ocorrer tentativa de divisão por zero.\n",
        "* Exibir o resultado da operação se não houver erros.\n",
        "* Garantir que a mensagem final seja exibida, independentemente de ocorrerem erros ou não."
      ]
    },
    {
      "cell_type": "code",
      "execution_count": 15,
      "metadata": {
        "id": "CkSm4ewPxIsY"
      },
      "outputs": [
        {
          "name": "stdout",
          "output_type": "stream",
          "text": [
            " Adição: 45\n",
            " Subtração: 35\n",
            " Multiplicação: 200\n",
            " Divisão: 8.0\n",
            " Adição: 45\n",
            " Subtração: 35\n",
            " Multiplicação: 200\n"
          ]
        }
      ],
      "source": [
        "try:\n",
        "    a = int(input(\"Primeiro número: \"))\n",
        "    b = int(input(\"Segundo número: \"))\n",
        "    soma = a + b \n",
        "    subtracao = a - b\n",
        "    multiplicacao = a * b\n",
        "    divisao = a / b\n",
        "    print(f\" Adição: {soma}\")\n",
        "    print(f\" Subtração: {subtracao}\")\n",
        "    print(f\" Multiplicação: {multiplicacao}\")\n",
        "    print(f\" Divisão: {divisao}\")\n",
        "\n",
        "except ValueError as e:\n",
        "    print(f\"Valores inválidos: {e}\")\n",
        "except ZeroDivisionError as e:\n",
        "    print(f\"Divisão por zero: {e}\")\n",
        "\n",
        "finally:\n",
        "    print(f\" Adição: {soma}\")\n",
        "    print(f\" Subtração: {subtracao}\")\n",
        "    print(f\" Multiplicação: {multiplicacao}\")"
      ]
    },
    {
      "cell_type": "markdown",
      "metadata": {
        "id": "feWu-b-nyWrc"
      },
      "source": [
        "💥 Desafio Supremo da Programação Orientada a Objetos 💥\n",
        "(Ou: Como sobreviver a uma aula sem colapsar existencialmente)\n",
        "\n",
        "📌 Atenção, estimados programadores em formação!\n",
        "Neste exercício, vocês serão desafiados a desenvolver um sistema que simula uma Feira Intergaláctica de Pets Alienígenas, usando composição, agregação, tratamento de exceções com try..except, e o poder do raciocínio lógico ainda não substituído por máquinas (ainda).\n",
        "\n",
        "Sim, vocês podem apelar para ferramentas de IA generativa, consultar fóruns, conversar com o vizinho que jura que sabe programar desde os 13 anos. Mas no final... terão que copiar o código completo à mão, com suas próprias e belas canetas, como fazíamos nos tempos dourados da Enciclopédia Barsa.\n",
        "E sim, pode ou não valer pontos. Conforme combinado... ou não.\n",
        "\n",
        "📘 Enunciado\n",
        "A Feira Intergaláctica de Pets reúne seres de vários planetas que trazem seus mascotes exóticos para vender, doar ou apenas exibir.\n",
        "\n",
        "Você deverá criar um sistema com as seguintes entidades:\n",
        "\n",
        "1. PetAlienigena (classe)\n",
        "\n",
        "Atributos:\n",
        "\n",
        "nome (str)\n",
        "\n",
        "especie (str)\n",
        "\n",
        "planeta_origem (str)\n",
        "\n",
        "idade_em_luas (int)\n",
        "\n",
        "Método:\n",
        "\n",
        "__str__() para exibir o pet de forma bonita:\n",
        "\"<nome> é um(a) <especie> vindo de <planeta_origem>, com <idade_em_luas> luas de idade.\"\n",
        "\n",
        "2. Criador (classe)\n",
        "\n",
        "Atributos:\n",
        "\n",
        "nome (str)\n",
        "\n",
        "idade (int)\n",
        "\n",
        "lista_de_pets (agregação de objetos PetAlienigena)\n",
        "\n",
        "Métodos:\n",
        "\n",
        "adicionar_pet(pet)\n",
        "\n",
        "listar_pets() → lista todos os pets do criador\n",
        "\n",
        "O criador pode ou não ter pets no momento (agregação).\n",
        "\n",
        "3. FeiraGalactica (classe)\n",
        "\n",
        "Atributos:\n",
        "\n",
        "nome (str)\n",
        "\n",
        "criadores_participantes (composição de objetos Criador)\n",
        "\n",
        "Métodos:\n",
        "\n",
        "registrar_criador(criador)\n",
        "\n",
        "listar_criadores()\n",
        "\n",
        "mostrar_tudo() → mostra todos os criadores e seus pets\n",
        "\n",
        "Se a feira for destruída por um meteoro (ou por um del feira), todos os criadores também somem (composição!).\n",
        "\n",
        "4. Tratamento de erros:\n",
        "\n",
        "Implemente pelo menos dois blocos try..except para tratar:\n",
        "\n",
        "a tentativa de adicionar um pet que não é um objeto da classe PetAlienigena.\n",
        "\n",
        "a tentativa de listar os pets de um criador que não tem nenhum.\n",
        "\n",
        "**Regras da Galáxia**\n",
        "\n",
        "Copiem o código à mão, nada de \"Ctrl + C, Ctrl + V galáctico\".\n",
        "\n",
        "Comentem o que cada parte faz (inclusive os blocos try..except).\n",
        "\n",
        "Testem o código com pelo menos 2 criadores e 3 pets alienígenas diferentes.\n",
        "\n",
        "Insiram pelo menos uma exceção forçada (por exemplo, tentar adicionar uma string como pet) e tratem com try..except.\n",
        "\n",
        "Se possível, tentem escrever o código com emoção e capricho: pensem como se estivessem entregando uma missão de paz ao Senado Intergaláctico de Programadores.\n",
        "\n"
      ]
    },
    {
      "cell_type": "code",
      "execution_count": null,
      "metadata": {
        "id": "PMCiuUpZylfL"
      },
      "outputs": [],
      "source": [
        "pet1 = PetAlienigena(\"Zorg\", \"Tentaculino\", \"Nebulosa 9\", 47)\n",
        "criador = Criador(\"Xandar\", 230)\n",
        "criador.adicionar_pet(pet1)\n",
        "feira = FeiraGalactica(\"ExpoPET 3000\")\n",
        "feira.registrar_criador(criador)\n",
        "feira.mostrar_tudo()\n"
      ]
    },
    {
      "cell_type": "markdown",
      "metadata": {
        "id": "IXJujIb0y_Pr"
      },
      "source": [
        "1. Múltipla Escolha – Agregação vs. Composição\n",
        "A diferença entre agregação e composição está melhor representada em qual alternativa, considerando o contexto do exercício?\n",
        "\n",
        "a) A agregação permite que os pets existam sem um criador, enquanto a composição obriga que os criadores existam sem uma feira.\n",
        "\n",
        "b) A composição ocorre entre Criador e PetAlienigena, enquanto a agregação ocorre entre FeiraGalactica e Criador.\n",
        "\n",
        "c) A agregação é representada na relação entre Criador e PetAlienigena, pois os pets podem existir fora do criador. A composição é usada entre FeiraGalactica e Criador, pois os criadores são destruídos com a feira.\n",
        "\n",
        "d) Nenhuma das anteriores.\n",
        "\n",
        "\n",
        "2. Verdadeiro ou Falso\n",
        "\n",
        "Marque V (verdadeiro) ou F (falso) nas afirmações abaixo:\n",
        "\n",
        "( ) A classe PetAlienigena é um exemplo de classe abstrata, pois não pode ser instanciada diretamente.\n",
        "\n",
        "( ) A utilização do método __str__() em PetAlienigena é um exemplo de polimorfismo.\n",
        "\n",
        "( ) O método adicionar_pet() da classe Criador pode ser considerado uma prática de encapsulamento.\n",
        "\n",
        "( ) O try..except usado para impedir que uma string seja adicionada como pet é um exemplo de tratamento de exceções em tempo de execução.\n",
        "\n",
        "\n",
        "3. Complete corretamente as frases a seguir com os conceitos corretos:\n",
        "\n",
        "a) O método __str__() é um exemplo de __________, pois permite que objetos sejam impressos de forma personalizada.\n",
        "\n",
        "b) O fato de FeiraGalactica eliminar os criadores ao ser destruída é uma representação de __________.\n",
        "\n",
        "c) Quando o objeto pet1 é passado para o método adicionar_pet, ocorre a prática de __________ entre objetos.\n",
        "\n",
        "d) A tentativa de tratar erros com try..except em tempo de execução é parte do paradigma da __________.\n",
        "\n",
        "\n",
        "4. Dissertativa – Herança e possibilidade de expansão\n",
        "\n",
        "Suponha que futuramente a feira deseje cadastrar “Pets Robóticos”, que tenham número de série e consumo de energia. Explique como a herança poderia ser usada para isso, mantendo a reutilização de código e o princípio de substituição de Liskov.\n",
        "\n",
        "\n",
        "5. Associe cada conceito (a-Composição, b-Agregação, c-Polimorfismo, d-encapsulamento, e-abstração) à sua descrição ou exemplo prático no sistema da feira:\n",
        "\n",
        "\n",
        "( ) Criador mantém uma lista de pets viva fora da feira\n",
        "\n",
        "( ) FeiraGalactica detém total controle sobre Criador\n",
        "\n",
        "( ) Uso de __str__() para representar o objeto\n",
        "\n",
        "( ) Método adicionar_pet protege a estrutura interna\n",
        "\n",
        "( ) Criar classes que representam conceitos do mundo real\n",
        "\n",
        "\n",
        "6. Observe o seguinte trecho de código hipotético:\n",
        "\n",
        "a) Por que esse código é um exemplo de má prática?\n",
        "\n",
        "b) Como isso pode ser tratado usando try..except e verificação de tipos?"
      ]
    },
    {
      "cell_type": "code",
      "execution_count": 1,
      "metadata": {
        "id": "mTWMSG8q0vya"
      },
      "outputs": [],
      "source": [
        "class Criador:\n",
        "    def __init__(self, nome, idade):\n",
        "        self.nome = nome\n",
        "        self.idade = idade\n",
        "        self.lista_de_pets = []\n",
        "\n",
        "    def adicionar_pet(self, pet):\n",
        "        self.lista_de_pets.append(pet)\n",
        "\n",
        "criador = Criador(\"Xor\", 200)\n",
        "criador.adicionar_pet(\"isso é só uma string\")\n"
      ]
    }
  ],
  "metadata": {
    "colab": {
      "provenance": []
    },
    "kernelspec": {
      "display_name": "Python 3",
      "name": "python3"
    },
    "language_info": {
      "codemirror_mode": {
        "name": "ipython",
        "version": 3
      },
      "file_extension": ".py",
      "mimetype": "text/x-python",
      "name": "python",
      "nbconvert_exporter": "python",
      "pygments_lexer": "ipython3",
      "version": "3.10.12"
    }
  },
  "nbformat": 4,
  "nbformat_minor": 0
}
