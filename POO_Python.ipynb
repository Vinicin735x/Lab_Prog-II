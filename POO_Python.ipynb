{
 "cells": [
  {
   "cell_type": "markdown",
   "metadata": {
    "id": "ZJIeJIsYL8tN"
   },
   "source": [
    "# **Introdução à Programação Orientada a Objetos (POO)**\n",
    "\n",
    "A Programação Orientada a Objetos (POO) é um paradigma de programação que organiza o código em objetos, que são instâncias de classes. Em vez de pensar em termos de funções e variáveis separadas (como em C), na POO você pensa em termos de entidades que possuem atributos (dados) e métodos (funções associadas).\n",
    "\n",
    "Nesse momento inicial você precisa lidar com os seguintes conceitos principais:\n",
    "\n",
    "*   Classe: uma definição ou modelo de um objeto.\n",
    "*   Objeto: uma instância de uma classe.\n",
    "*   Métodos: funções definidas dentro de uma classe.\n",
    "*   Atributos: variáveis que pertencem a um objeto.\n",
    "\n",
    "Para criar uma classe em Python, é preciso utilizar a palavra-chave class, seguida do nome da classe e dois pontos:\n"
   ]
  },
  {
   "cell_type": "code",
   "execution_count": 1,
   "metadata": {
    "id": "Lbqhm9ORMbFd"
   },
   "outputs": [
    {
     "name": "stdout",
     "output_type": "stream",
     "text": [
      "Nome: Ana, Idade: 25\n"
     ]
    }
   ],
   "source": [
    "# Definindo uma classe simples\n",
    "class Pessoa:\n",
    "    def __init__(self, nome, idade):\n",
    "        self.nome = nome\n",
    "        self.idade = idade\n",
    "\n",
    "    def exibir_info(self):\n",
    "        print(f'Nome: {self.nome}, Idade: {self.idade}')\n",
    "\n",
    "# Criando uma instância da classe\n",
    "pessoa1 = Pessoa('Ana', 25)\n",
    "pessoa1.exibir_info()  # Saída: Nome: Ana, Idade: 25\n"
   ]
  },
  {
   "cell_type": "markdown",
   "metadata": {
    "id": "195guif7NByD"
   },
   "source": [
    "Para instanciar uma classe, usa-se a mesma sintaxe de invocar uma função. Apenas finja que o objeto classe do exemplo é uma função sem parâmetros, que devolve uma nova instância da classe.\n",
    "A operação de instanciação (“invocar” um objeto classe) cria um objeto vazio. Muitas classes preferem criar novos objetos com um estado inicial predeterminado. Para tanto, a classe pode definir um método especial chamado _ _ init _ _\n",
    "o self é uma palavra reservada que se refere ao objeto atual e é utilizada para acessar os atributos e métodos de uma classe. O self é fundamental na programação orientada a objetos do Python. Quando um método é chamado em um objeto, o Python passa o próprio objeto como o primeiro argumento para o método, que é então atribuído ao parâmetro \"self\". O self é sempre o primeiro argumento a ser passado em um construtor e nos métodos de instâncias"
   ]
  },
  {
   "cell_type": "markdown",
   "metadata": {
    "id": "pdARdTyWNjT9"
   },
   "source": [
    "**Exercício 1**\n",
    "\n",
    "Vamos criar uma classe TV que representará um aparelho de televisão com atributos como canal e volume e métodos para alterar esses atributos (mudar_canal e ajustar_volume)."
   ]
  },
  {
   "cell_type": "code",
   "execution_count": 1,
   "metadata": {
    "id": "sX1HJMIOOGOt"
   },
   "outputs": [
    {
     "name": "stdout",
     "output_type": "stream",
     "text": [
      "A Televisão está no canal: 450 e no volume: 15\n",
      "Estamos no canal 19 e no volume 22\n"
     ]
    }
   ],
   "source": [
    "# Definindo uma classe TV, faça abaixo o código\n",
    "class Televisao:\n",
    "    def __init__(self, canal, volume):\n",
    "        self.canal = canal\n",
    "        self.volume = volume\n",
    "    \n",
    "    def mudar_canal(self, canal):\n",
    "        self.canal = canal\n",
    "\n",
    "    def ajustar_volume(self, volume):\n",
    "        self.volume = volume\n",
    "\n",
    "Tv1 = Televisao(0, 0)\n",
    "Tv1.mudar_canal(450)\n",
    "Tv1.ajustar_volume(15)\n",
    "print(f\"A Televisão está no canal: {Tv1.canal} e no volume: {Tv1.volume}\")\n",
    "# outra maneira:\n",
    "\n",
    "class Televisao:\n",
    "    def __init__(self):\n",
    "        self.canal = 0\n",
    "        self.volume = 0\n",
    "\n",
    "    def mudar_canal(self, canal):\n",
    "        self.canal = canal\n",
    "\n",
    "    def ajustar_volume(self, volume):\n",
    "        self.volume = volume\n",
    "\n",
    "    def get_canal(self):\n",
    "        return self.canal\n",
    "    \n",
    "    def get_volume(self):\n",
    "        return self.volume\n",
    "    \n",
    "#Instâncias\n",
    "Tv = Televisao()\n",
    "Tv.mudar_canal(19)\n",
    "Tv.ajustar_volume(22)\n",
    "print(f\"Estamos no canal {Tv.get_canal()} e no volume {Tv.get_volume()}\")\n"
   ]
  },
  {
   "cell_type": "markdown",
   "metadata": {
    "id": "CGYb7GqwOU7j"
   },
   "source": [
    "**Construtores e Destruidores**\n",
    "O método __init__ é o construtor da classe, chamado quando uma instância é criada. O método __del__ é um destrutor chamado quando o objeto é destruído (automaticamente ou com del)."
   ]
  },
  {
   "cell_type": "code",
   "execution_count": null,
   "metadata": {
    "id": "-doOojH1ObgA"
   },
   "outputs": [],
   "source": [
    "class Exemplo:\n",
    "    def __init__(self, valor):\n",
    "        self.valor = valor\n",
    "        print(f'Objeto criado com valor: {self.valor}')\n",
    "\n",
    "    def __del__(self):\n",
    "        print(f'Objeto com valor {self.valor} foi destruído')\n",
    "\n",
    "# Criando e destruindo um objeto\n",
    "obj = Exemplo(10)\n",
    "del obj  # Chama o método __del__\n"
   ]
  },
  {
   "cell_type": "markdown",
   "metadata": {
    "id": "8bLtxfgjOq5e"
   },
   "source": [
    "**Exercício 2**\n",
    "\n",
    "Adicione um método __del__ à classe TV que imprime uma mensagem indicando que a TV foi desligada. Crie uma instância e depois a delete para testar."
   ]
  },
  {
   "cell_type": "code",
   "execution_count": 3,
   "metadata": {
    "id": "N-SrlJGcO4EO"
   },
   "outputs": [
    {
     "name": "stdout",
     "output_type": "stream",
     "text": [
      "A televisão está ligada\n",
      "A televisão foi desligada no canal 20\n"
     ]
    }
   ],
   "source": [
    "# Definindo uma classe TV, faça abaixo o código\n",
    "class Televisao:\n",
    "    def __init__(self, volume = 0, canal = 0):\n",
    "        self.canal = canal\n",
    "        self.volume = volume\n",
    "    \n",
    "    def ligar_tv(self):\n",
    "        print(\"A televisão está ligada\")\n",
    "\n",
    "    def __del__(self):\n",
    "        print(f\"A televisão foi desligada no canal {self.canal}\")\n",
    "\n",
    "   \n",
    "tv = Televisao(3, 20)\n",
    "tv.ligar_tv()\n",
    "del tv\n",
    "    "
   ]
  },
  {
   "cell_type": "markdown",
   "metadata": {
    "id": "mcwuaBcaPFaE"
   },
   "source": [
    "**Instanciando Objetos e Trabalhando com Vários Exemplares**\n",
    "\n",
    "É comum criar e manipular múltiplas instâncias de uma classe. Python permite variáveis de instância (específicas de um objeto) e variáveis de classe (compartilhadas por todas as instâncias)."
   ]
  },
  {
   "cell_type": "code",
   "execution_count": 6,
   "metadata": {
    "id": "vQg7GEwfPOa2"
   },
   "outputs": [
    {
     "name": "stdout",
     "output_type": "stream",
     "text": [
      "Total de carros: 4\n",
      "Carro: Toyota Corolla\n",
      "Carro: Honda Civic\n",
      "Carro: Hyundai i30\n"
     ]
    }
   ],
   "source": [
    "class Carro:\n",
    "    contador = 0  \n",
    "\n",
    "    def __init__(self, marca, modelo):\n",
    "        self.marca = marca\n",
    "        self.modelo = modelo\n",
    "        Carro.contador += 1\n",
    "\n",
    "    def detalhes(self):\n",
    "        print(f'Carro: {self.marca} {self.modelo}')\n",
    "\n",
    "# Criando instâncias\n",
    "carro1 = Carro('Toyota', 'Corolla')\n",
    "carro2 = Carro('Honda', 'Civic')\n",
    "carro3 = Carro('Hyundai', 'i30')\n",
    "carro4 = Carro('Fiat', 'Palio')\n",
    "\n",
    "\n",
    "print(f\"Total de carros: {Carro.contador}\")\n",
    "carro1.detalhes()\n",
    "carro2.detalhes()\n",
    "carro3.detalhes()\n"
   ]
  },
  {
   "cell_type": "markdown",
   "metadata": {
    "id": "7uTcQ1FePiuf"
   },
   "source": [
    "**Exercício 3**\n",
    "\n",
    "Adicione os atributos tamanho e marca à classe Televisao. Crie dois objetos Televisao e atribua tamanhos e marcas diferentes. Depois, imprima o valor desses atributos de forma a confirma a independência dos valores de cada instância (objeto).\n"
   ]
  },
  {
   "cell_type": "code",
   "execution_count": 8,
   "metadata": {
    "id": "vcC6ttD6PuT5"
   },
   "outputs": [
    {
     "name": "stdout",
     "output_type": "stream",
     "text": [
      "A Tv está no canal: 12, no volume: 55, tem 60 polegadas e é da marca: samsung\n",
      "A Tv está no canal: 0, no volume: 0, tem 55 polegadas e é da marca: LG\n"
     ]
    }
   ],
   "source": [
    "class Televisao:\n",
    "    def __init__(self, canal, volume, tamanho, marca):\n",
    "        self.canal = canal\n",
    "        self.volume = volume\n",
    "        self.tamanho = tamanho\n",
    "        self.marca = marca\n",
    "\n",
    "    def mudar_canal(self, canal):\n",
    "        self.canal = canal\n",
    "\n",
    "    def ajustar_volume(self, volume):\n",
    "        self.volume = volume\n",
    "\n",
    "tv1 = Televisao(12, 55, 60, \"samsung\")\n",
    "print(f\"A Tv está no canal: {tv1.canal}, no volume: {tv1.volume}, tem {tv1.tamanho} polegadas e é da marca: {tv1.marca}\")\n",
    "\n",
    "tv2 = Televisao(0, 0, 55, \"LG\")\n",
    "print(f\"A Tv está no canal: {tv2.canal}, no volume: {tv2.volume}, tem {tv2.tamanho} polegadas e é da marca: {tv2.marca}\")\n",
    "    \n"
   ]
  },
  {
   "cell_type": "markdown",
   "metadata": {
    "id": "YGi44IefP-Qt"
   },
   "source": [
    "**Exercício 4**\n",
    "\n",
    "Modifique a classe Televisao de forma que, se pedirmos para mudar o canal para baixo, além do mínimo, ela vá para o canal máximo. Se mudarmos para cima, além do canal máximo, que volte ao canal mínimo.\n",
    "\n"
   ]
  },
  {
   "cell_type": "code",
   "execution_count": 22,
   "metadata": {
    "id": "SzzqDQtWQI1J"
   },
   "outputs": [
    {
     "name": "stdout",
     "output_type": "stream",
     "text": [
      "23\n",
      "2\n"
     ]
    }
   ],
   "source": [
    "class Televisao:\n",
    "  def __init__(self, min, max):\n",
    "    self.ligada = False\n",
    "    self.canal = 2\n",
    "    self.cmin = min\n",
    "    self.cmax = max\n",
    "\n",
    "  def muda_canal_para_baixo(self):\n",
    "    if(self.canal-1>=self.cmin):\n",
    "      self.canal-=1\n",
    "    else:\n",
    "      self.canal = self.cmax\n",
    "\n",
    "  def muda_canal_para_cima(self):\n",
    "    if(self.canal+1<=self.cmax):\n",
    "      self.canal+=1\n",
    "    else:\n",
    "      self.canal = self.cmin\n",
    "\n",
    "tv = Televisao(1, 99)\n",
    "for x in range (0, 120):\n",
    "  tv.muda_canal_para_cima()\n",
    "print(tv.canal)\n",
    "\n",
    "for x in range (0, 120):\n",
    "  tv.muda_canal_para_baixo()\n",
    "print(tv.canal)"
   ]
  },
  {
   "cell_type": "markdown",
   "metadata": {
    "id": "-YUvJWTSQr90"
   },
   "source": [
    "**Exercício 5**\n",
    "\n",
    "Desenvolva uma classe Carro para simular o comportamento de um automóvel. A classe deve conter os seguintes atributos: Marca: String que representa a marca do carro.\n",
    "Modelo: String que representa o modelo do carro.\n",
    "Ano: Inteiro que representa o ano de fabricação do carro.\n",
    "Ligado: Booleano que indica se o carro está ligado (True) ou desligado (False).\n",
    "Velocidade: Inteiro que representa a velocidade atual do carro em km/h, deve ser iniciado com zero.\n",
    "E que implemente os seguintes métodos:\n",
    "__init__(marca, modelo, ano): Construtor da classe que inicializa os atributos do carro.\n",
    "ligar(): Altera o estado do carro para ligado e imprime uma mensagem na tela.\n",
    "Desligar(): Altera o estado do carro para desligado, zera a velocidade e imprime uma mensagem na tela.\n",
    "Acelerar(valor): Aumenta a velocidade do carro em um determinado valor, desde que o carro esteja ligado. Imprime a nova velocidade na tela.\n",
    "Frear(valor): Diminui a velocidade do carro em um determinado valor, desde que a nova velocidade não seja negativa. Imprime a nova velocidade na tela.\n",
    "\n",
    "\n",
    "\n",
    " \n"
   ]
  },
  {
   "cell_type": "code",
   "execution_count": 22,
   "metadata": {
    "id": "LuoVnb87QvYB"
   },
   "outputs": [
    {
     "name": "stdout",
     "output_type": "stream",
     "text": [
      "O i30 está ligado\n",
      "Acelerando.. velocidade atual 50Km/h\n",
      "Freiando.. velocidade atual 20Km/h\n",
      "Você chegou ao destino, velocidade atual 0Km/h. O carro foi desligado\n"
     ]
    }
   ],
   "source": [
    "class Carro:\n",
    "    def __init__(self, marca, modelo, ano):\n",
    "        self.marca = marca\n",
    "        self.modelo = modelo\n",
    "        self.ano = ano\n",
    "        self.ligado = False\n",
    "        self.velocidade = 0\n",
    "\n",
    "    def ligar(self):\n",
    "        self.ligado = True\n",
    "        print(f\"O {self.modelo} está ligado\")\n",
    "\n",
    "    def desligado(self):\n",
    "        self.ligado = False\n",
    "        self.velocidade = 0\n",
    "        print(f\"O {self.modelo} está desligado\")\n",
    "\n",
    "    def acelerar(self, valor):\n",
    "        self.valor = valor\n",
    "        if self.ligado == True:\n",
    "            self.velocidade += valor\n",
    "            print(f\"Acelerando.. velocidade atual {self.velocidade}Km/h\")\n",
    "        else:\n",
    "            print(\"O carro precisa estar ligado para acelerar\")\n",
    "\n",
    "    def frear(self, valor):\n",
    "        self.valor = valor\n",
    "        if self.velocidade >= valor:\n",
    "            self.ligado == True\n",
    "            self.velocidade -= valor\n",
    "            print(f\"Freiando.. velocidade atual {self.velocidade}Km/h\")\n",
    "        else:\n",
    "            print(\"A velocidade não pode ser negativa\")\n",
    "\n",
    "    def parar(self):\n",
    "        self.velocidade = 0\n",
    "        self.ligado = False\n",
    "        print(f\"Você chegou ao destino, velocidade atual {self.velocidade}Km/h. O carro foi desligado\")\n",
    "          \n",
    "\n",
    "# Criando instâncias\n",
    "meu_carro = Carro(\"Honda\", \"i30\", 2011)\n",
    "meu_carro.ligar() \n",
    "meu_carro.acelerar(50)\n",
    "meu_carro.frear(30)\n",
    "meu_carro.parar()"
   ]
  },
  {
   "cell_type": "markdown",
   "metadata": {
    "id": "NOMmYIZcQ7Nd"
   },
   "source": [
    "**Exercício 6**\n",
    "Crie uma classe chamada Calculadora que possua um construtor que aceita dois argumentos não obrigatórios: x e y (se não fornecidos assumirão o valor padrão de zero). Esses argumentos representarão números que podem ser usados em operações matemáticas. A classe deve ter métodos para realizar as seguintes operações:\n",
    "* Soma: Um método chamado soma que retorna a soma de x e y.\n",
    "* Subtração: Um método chamado subtracao que retorna a subtração de x por y.\n",
    "* Multiplicação: Um método chamado multiplicacao que retorna a multiplicação de x por y.\n",
    "* Divisão: Um método chamado divisao que retorna a divisão de x por y. Certifique-se de verificar se y é zero e, se for, retorne uma mensagem de erro adequada.\n",
    "\n"
   ]
  },
  {
   "cell_type": "code",
   "execution_count": 29,
   "metadata": {
    "id": "R2WoACalRHOT"
   },
   "outputs": [
    {
     "name": "stdout",
     "output_type": "stream",
     "text": [
      "A soma dos valores é: 12\n",
      "A subtração dos valores é: 8\n",
      "A multiplicação dos valores é: 20\n",
      "A divisão dos valores é: 5.0\n",
      "\n",
      "A soma dos valores é: 12\n",
      "A subtração dos valores é: 8\n",
      "A multiplicação dos valores é: 20\n",
      "A divisão dos valores é: 5.0\n"
     ]
    }
   ],
   "source": [
    "class Calculadora:\n",
    "    def __init__(self, x=0, y=0):\n",
    "        self.x = x\n",
    "        self.y = y\n",
    "        \n",
    "    def get_soma(self):\n",
    "        return (self.x + self.y)\n",
    "    \n",
    "    def get_subtracao(self):\n",
    "        return (self.x - self.y)\n",
    "    \n",
    "    def get_multiplicacao(self):\n",
    "        return (self.x * self.y)\n",
    "    \n",
    "    def get_divisao(self):\n",
    "        if (self.x % self.y == 0):\n",
    "            return (self.x / self.y)\n",
    "        else:\n",
    "            print(\"Divisão impossível\")\n",
    "\n",
    "conta = Calculadora(10, 2)\n",
    "print(f\"A soma dos valores é: {conta.get_soma()}\")\n",
    "print(f\"A subtração dos valores é: {conta.get_subtracao()}\")\n",
    "print(f\"A multiplicação dos valores é: {conta.get_multiplicacao()}\")\n",
    "print(f\"A divisão dos valores é: {conta.get_divisao()}\\n\")\n",
    "\n",
    "\n",
    "\n",
    "#outra maneira:\n",
    "\n",
    "class Calculadora:\n",
    "    def __init__(self, x=0, y=0):\n",
    "        self.x = x\n",
    "        self.y = y\n",
    "\n",
    "    def imprimir_valor(self):\n",
    "        print(f\"x = {self.x}, y = {self.y}\")\n",
    "    \n",
    "    def soma(self):\n",
    "        return self.x + self.y\n",
    "    \n",
    "    def subtracao(self):\n",
    "        return self.x - self.y\n",
    "    \n",
    "    def divisao(self):\n",
    "        if (self.x % self.y == 0):\n",
    "            return (self.x / self.y)\n",
    "        else:\n",
    "            print(\"Divisão impossível\")\n",
    "    \n",
    "    def multiplicacao(self):\n",
    "        return self.x * self.y\n",
    "\n",
    "conta = Calculadora(10, 2)\n",
    "print(f\"A soma dos valores é: {conta.soma()}\")\n",
    "print(f\"A subtração dos valores é: {conta.subtracao()}\")\n",
    "print(f\"A multiplicação dos valores é: {conta.multiplicacao()}\")\n",
    "print(f\"A divisão dos valores é: {conta.divisao()}\")\n",
    "    \n",
    "    \n"
   ]
  },
  {
   "cell_type": "code",
   "execution_count": 2,
   "metadata": {},
   "outputs": [
    {
     "name": "stdout",
     "output_type": "stream",
     "text": [
      "Python2Python2\n"
     ]
    }
   ],
   "source": [
    "def func_x(x):\n",
    "    x = x + '2'\n",
    "    x = x * 2\n",
    "    return x\n",
    "\n",
    "print(func_x(\"Python\"))"
   ]
  },
  {
   "cell_type": "code",
   "execution_count": 5,
   "metadata": {},
   "outputs": [
    {
     "name": "stdout",
     "output_type": "stream",
     "text": [
      "[0, 3]\n"
     ]
    }
   ],
   "source": [
    "def fun():\n",
    "    return [i for i in range(0,4,3)]\n",
    "\n",
    "print(fun())"
   ]
  },
  {
   "cell_type": "code",
   "execution_count": 6,
   "metadata": {},
   "outputs": [
    {
     "name": "stdout",
     "output_type": "stream",
     "text": [
      "True\n"
     ]
    }
   ],
   "source": [
    "x = {1, 2, 3}\n",
    "y = {1, 3, 2, 3}\n",
    "print(x==y)"
   ]
  }
 ],
 "metadata": {
  "colab": {
   "provenance": []
  },
  "kernelspec": {
   "display_name": "Python 3",
   "language": "python",
   "name": "python3"
  },
  "language_info": {
   "codemirror_mode": {
    "name": "ipython",
    "version": 3
   },
   "file_extension": ".py",
   "mimetype": "text/x-python",
   "name": "python",
   "nbconvert_exporter": "python",
   "pygments_lexer": "ipython3",
   "version": "3.10.12"
  }
 },
 "nbformat": 4,
 "nbformat_minor": 0
}
