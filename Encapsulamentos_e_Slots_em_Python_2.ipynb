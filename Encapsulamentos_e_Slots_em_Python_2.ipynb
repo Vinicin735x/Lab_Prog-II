{
  "cells": [
    {
      "cell_type": "markdown",
      "metadata": {
        "id": "20IXoMI3jmqI"
      },
      "source": [
        "# Encapsulamento e slots em Python#\n",
        "\n",
        "* Uma classe contêiner em Python é uma classe que contém outros objetos ou instâncias de classes, permitindo agrupar dados relacionados e fornecer uma maneira organizada de acessá-los e manipulá-los.\n",
        "* Em Python, existem várias classes contêiner built-in, como listas, tuplas, conjuntos (sets) e dicionários.\n",
        "* No entanto, você também pode criar suas próprias classes contêiner personalizadas, definindo os métodos especiais apropriados para a manipulação dos elementos contidos.\n"
      ]
    },
    {
      "cell_type": "code",
      "execution_count": null,
      "metadata": {
        "colab": {
          "base_uri": "https://localhost:8080/"
        },
        "id": "AxsBs_4Pj8Oi",
        "outputId": "098f956c-9e0a-4156-f931-50d8c99953dd"
      },
      "outputs": [
        {
          "name": "stdout",
          "output_type": "stream",
          "text": [
            "Itens no carrinho:\n",
            "Camiseta\n",
            "Calça\n",
            "Sapatos\n",
            "\n",
            "Itens no carrinho após remoção:\n",
            "Calça\n",
            "Sapatos\n"
          ]
        }
      ],
      "source": [
        "class ShoppingCart:\n",
        "  def __init__(self):\n",
        "    self.items = [] \n",
        "\n",
        "  def add_item(self, item):\n",
        "    self.items.append(item)\n",
        "\n",
        "  def remove_item(self, item):\n",
        "    self.items.remove(item)\n",
        "\n",
        "  def show_items(self):\n",
        "    for item in self.items:\n",
        "      print(item)\n",
        "\n",
        "cart = ShoppingCart()\n",
        "cart.add_item(\"Camiseta\")\n",
        "cart.add_item(\"Calça\")\n",
        "cart.add_item(\"Sapatos\")\n",
        "print(\"Itens no carrinho:\")\n",
        "cart.show_items()\n",
        "cart.remove_item(\"Camiseta\")\n",
        "print(\"\\nItens no carrinho após remoção:\")\n",
        "cart.show_items()"
      ]
    },
    {
      "cell_type": "markdown",
      "metadata": {
        "id": "yJ8HrkRNkeb6"
      },
      "source": [
        "**Exercício de Fixação 1**\n",
        "\n",
        "Você foi contratado para criar um sistema de gerenciamento de alunos em uma escola. Sua tarefa é criar uma classe chamada Turma que funcionará como um contêiner para armazenar informações sobre os alunos de uma turma. A classe Turma deve incluir um construtor para inicializar os atributos e um destrutor para imprimir uma mensagem quando a instância for destruída. Além disso, você deve implementar métodos para adicionar e remover alunos da turma, bem como para listar os alunos matriculados.\n",
        "\n",
        "Requisitos:\n",
        "* A classe Turma deve conter um atributo alunos, que será uma lista para armazenar os nomes dos alunos.\n",
        "* O construtor __init__ deve aceitar o nome da turma como parâmetro e inicializar a lista de alunos.\n",
        "*A classe deve ter um método adicionar_aluno que permita adicionar um aluno à turma.\n",
        "*A classe deve ter um método remover_aluno que permita remover um aluno da turma.\n",
        "*A classe deve ter um método listar_alunos que exiba os nomes dos alunos matriculados.\n",
        "*O destrutor __del__ deve imprimir uma mensagem informando que a instância da turma está sendo destruída.\n"
      ]
    },
    {
      "cell_type": "code",
      "execution_count": 4,
      "metadata": {
        "id": "Ynj7Vemgkzfb"
      },
      "outputs": [
        {
          "name": "stdout",
          "output_type": "stream",
          "text": [
            "O Aluno Vinicius foi adicionado com sucesso a turma: Primeiro Periodo\n",
            "O Aluno Camila foi adicionado com sucesso a turma: Primeiro Periodo\n",
            "O aluno Gabriel não foi encontrado na turma: Primeiro Periodo\n",
            "A turma foi destruída com sucesso!\n"
          ]
        }
      ],
      "source": [
        "class Turma:\n",
        "    def __init__(self, nome_turma):\n",
        "        self.nome_turma = nome_turma\n",
        "        self.alunos = []\n",
        "\n",
        "    def add_aluno(self, aluno):\n",
        "        self.alunos.append(aluno)\n",
        "        print(f\"O Aluno {aluno} foi adicionado com sucesso a turma: {self.nome_turma}\")\n",
        "\n",
        "    def remove_aluno(self, aluno):\n",
        "        if aluno in self.alunos:\n",
        "            self.alunos.remove(aluno)\n",
        "        else:\n",
        "            print(f\"O aluno {aluno} não foi encontrado na turma: {self.nome_turma}\")\n",
        "\n",
        "    def _del_(self):\n",
        "        print(\"A turma foi destruída com sucesso!\")\n",
        "\n",
        "sala = Turma(\"Primeiro Periodo\")\n",
        "sala.add_aluno(\"Vinicius\")\n",
        "sala.add_aluno(\"Camila\")\n",
        "sala.remove_aluno(\"Vinicius\")\n",
        "sala.remove_aluno(\"Gabriel\")\n",
        "sala._del_()"
      ]
    },
    {
      "cell_type": "markdown",
      "metadata": {
        "id": "o3jc03_JlBR7"
      },
      "source": [
        "**Encapsulamento**\n",
        "\n",
        "* O encapsulamento envolve a ideia de esconder os detalhes de implementação internos de uma classe.\n",
        "* Isso protege os atributos e métodos internos de acesso e manipulação indesejados.\n",
        "* Encapsulamento ajuda a manter a coesão e reduz o acoplamento entre classes.\n",
        "* Os membros protegidos são indicados por um único underscore (_) como prefixo (_nome).\n",
        "* Embora sejam acessíveis fora da classe, convenciona-se que devem ser tratados como \"privados\".\n",
        "* Os membros privados são indicados por dois underscores (__) como prefixo (__nome).\n",
        "* Eles são usados para indicar que o acesso deve ser restrito à própria classe.\n"
      ]
    },
    {
      "cell_type": "code",
      "execution_count": null,
      "metadata": {
        "id": "LguZLiSLljUX"
      },
      "outputs": [
        {
          "name": "stdout",
          "output_type": "stream",
          "text": [
            "Eduardo\n"
          ]
        }
      ],
      "source": [
        "class Pessoa:\n",
        "    def __init__(self, nome):\n",
        "        self.nome = nome \n",
        "\n",
        "Funcionario = Pessoa(\"Eduardo\")\n",
        "print(Funcionario.nome)\n"
      ]
    },
    {
      "cell_type": "code",
      "execution_count": 22,
      "metadata": {
        "id": "-GCpbUZclnBF"
      },
      "outputs": [
        {
          "ename": "AttributeError",
          "evalue": "'Pessoa' object has no attribute '__nome'",
          "output_type": "error",
          "traceback": [
            "\u001b[0;31m---------------------------------------------------------------------------\u001b[0m",
            "\u001b[0;31mAttributeError\u001b[0m                            Traceback (most recent call last)",
            "Cell \u001b[0;32mIn[22], line 6\u001b[0m\n\u001b[1;32m      3\u001b[0m         \u001b[38;5;28mself\u001b[39m\u001b[38;5;241m.\u001b[39m__nome \u001b[38;5;241m=\u001b[39m nome  \n\u001b[1;32m      5\u001b[0m Funcionario \u001b[38;5;241m=\u001b[39m Pessoa(\u001b[38;5;124m\"\u001b[39m\u001b[38;5;124mEduardo\u001b[39m\u001b[38;5;124m\"\u001b[39m)\n\u001b[0;32m----> 6\u001b[0m \u001b[38;5;28mprint\u001b[39m(\u001b[43mFuncionario\u001b[49m\u001b[38;5;241;43m.\u001b[39;49m\u001b[43m__nome\u001b[49m)\n",
            "\u001b[0;31mAttributeError\u001b[0m: 'Pessoa' object has no attribute '__nome'"
          ]
        }
      ],
      "source": [
        "class Pessoa:\n",
        "    def __init__(self, nome):\n",
        "        self.__nome = nome  \n",
        "\n",
        "Funcionario = Pessoa(\"Eduardo\")\n",
        "print(Funcionario.__nome)\n"
      ]
    },
    {
      "cell_type": "markdown",
      "metadata": {
        "id": "MSVahFkIlzJL"
      },
      "source": [
        "**Exercício de Fixação 2**\n",
        "\n",
        "Crie uma classe chamada ContaBancaria que encapsule informações sobre uma conta bancária. A classe deve ter os seguintes métodos públicos:\n",
        "* __init__(self, titular, saldo_inicial): Um construtor que recebe o nome do titular da conta e o saldo inicial e inicializa atributos privados _titular e _saldo.\n",
        "* depositar(self, valor): Um método que permite ao titular da conta depositar dinheiro na conta. Este método deve atualizar o saldo da conta.\n",
        "* sacar(self, valor): Um método que permite ao titular da conta sacar dinheiro da conta, desde que haja saldo suficiente. Este método deve atualizar o saldo da conta.\n",
        "* saldo(self): Um método que retorna o saldo atual da conta.\n",
        "* Certifique-se de que _saldo seja privado e que não possa ser acessado diretamente de fora da classe. Use métodos públicos para interagir com o saldo.\n"
      ]
    },
    {
      "cell_type": "code",
      "execution_count": null,
      "metadata": {
        "id": "PQ88Ceo0l_0Y"
      },
      "outputs": [
        {
          "name": "stdout",
          "output_type": "stream",
          "text": [
            "Foram adicionados 500 reais a sua conta com sucesso\n",
            "Foi sacado um valor de 200 reais da sua conta com sucesso!\n",
            "O saldo do titular Bruno é de R$1300.00\n"
          ]
        }
      ],
      "source": [
        "class ContaBancaria:\n",
        "    def __init__(self, titular, saldo_inicial):\n",
        "        self.__titular = titular\n",
        "        self.__saldo = saldo_inicial\n",
        "\n",
        "    def depositar(self, valor):\n",
        "        self.__saldo += valor\n",
        "        print(f\"Foram adicionados {valor} reais a sua conta com sucesso\")\n",
        "\n",
        "    def sacar(self, valor):\n",
        "        if self.__saldo >= valor:\n",
        "            self.__saldo -= valor\n",
        "            print(f\"Foi sacado um valor de {valor} reais da sua conta com sucesso!\")\n",
        "        else:\n",
        "            print(\"Saldo insuficiente para saque\")\n",
        "\n",
        "    def saldo(self):\n",
        "        print(f\"O saldo do titular {self.__titular} é de R${self.__saldo:.2f}\")\n",
        "\n",
        "\n",
        "\n",
        "\n",
        "conta = ContaBancaria(\"Bruno\", 1000)\n",
        "conta.depositar(500)\n",
        "conta.sacar(200)\n",
        "conta.saldo()\n"
      ]
    },
    {
      "cell_type": "markdown",
      "metadata": {
        "id": "XBt1oFHImEEK"
      },
      "source": [
        "**Métodos Get e Set na POO**\n",
        "\n",
        "* Na programação orientada a objetos (POO), os métodos Get e Set são utilizados para acessar e modificar os atributos de uma classe de maneira controlada.\n",
        "* Eles desempenham um papel importante na aplicação do princípio de encapsulamento, que visa proteger os atributos de uma classe e fornecer uma interface controlada para interagir com eles.\n"
      ]
    },
    {
      "cell_type": "code",
      "execution_count": null,
      "metadata": {
        "id": "_V6lBIJamPWD"
      },
      "outputs": [],
      "source": [
        "class Pessoa:\n",
        "    def __init__(self, nome):\n",
        "        self.__nome = nome  # Atributo privado\n",
        "\n",
        "    def get_nome(self):\n",
        "        return self.__nome  \n",
        "\n",
        "pessoa = Pessoa(\"Alice\")\n",
        "nome_da_pessoa = pessoa.get_nome()\n",
        "print(nome_da_pessoa)  # Saída: Alice\n"
      ]
    },
    {
      "cell_type": "code",
      "execution_count": null,
      "metadata": {
        "id": "_kItleQCmZZ0"
      },
      "outputs": [],
      "source": [
        "class ContaBancaria:\n",
        "    def __init__(self):\n",
        "        self.__saldo = 0  # Atributo privado\n",
        "\n",
        "    def set_saldo(self, novo_saldo):\n",
        "        if novo_saldo >= 0:\n",
        "            self.__saldo = novo_saldo  # Método set com validação\n",
        "\n",
        "    def get_saldo(self):\n",
        "        return self.__saldo\n",
        "\n",
        "conta = ContaBancaria()\n",
        "conta.set_saldo(1000)\n",
        "print(conta.get_saldo())  # Saída: 1000\n",
        "conta.set_saldo(-500)  # Não alterará o saldo, pois a validação falha\n",
        "print(conta.get_saldo())  # Ainda será 1000\n"
      ]
    },
    {
      "cell_type": "code",
      "execution_count": 17,
      "metadata": {},
      "outputs": [
        {
          "name": "stdout",
          "output_type": "stream",
          "text": [
            "JK Rowling Harry Potter e a Ordem da Fênix\n"
          ]
        }
      ],
      "source": [
        "class Livro:\n",
        "    def __init__(self, titulo, autor):\n",
        "        self.__autor = autor\n",
        "        self.__titulo = titulo\n",
        "    \n",
        "    def set_titulo(self,titulo):\n",
        "        self.__titulo = titulo\n",
        "\n",
        "    def get_titulo(self):\n",
        "        return self.__titulo\n",
        "    \n",
        "    def set_autor(self, autor):\n",
        "        self.__autor = autor\n",
        "\n",
        "    def get_autor(self):\n",
        "        return self.__autor\n",
        "    \n",
        "book = Livro(\"Revoução dos bichos\", \"George Orwel\")\n",
        "book.set_autor(\"JK Rowling\")\n",
        "book.set_titulo(\"Harry Potter e a Ordem da Fênix\")\n",
        "print(book.get_autor(), book.get_titulo())"
      ]
    },
    {
      "cell_type": "code",
      "execution_count": 18,
      "metadata": {},
      "outputs": [
        {
          "name": "stdout",
          "output_type": "stream",
          "text": [
            "O nome do funcionário é Guilherme e seu cargo é Estagiário\n"
          ]
        }
      ],
      "source": [
        "class Employee:\n",
        "    def __init__(self, name, position):\n",
        "        self.__name = name\n",
        "        self.__position = position\n",
        "    \n",
        "    def get_name(self):\n",
        "        return self.__name\n",
        "    \n",
        "    def get_position(self):\n",
        "        return self.__position\n",
        "    \n",
        "    def show(self):\n",
        "        print(f\"O nome do funcionário é {self.get_name()} e seu cargo é {self.get_position()}\")\n",
        "\n",
        "funcionario = Employee(\"Guilherme\", \"Estagiário\")\n",
        "funcionario.show()"
      ]
    },
    {
      "cell_type": "markdown",
      "metadata": {
        "id": "bFddJqlDmovH"
      },
      "source": [
        "**Exercício de Fixação 3**\n",
        "\n",
        "Encapsule os atributos da classe Pessoa para torná-los privados e forneça métodos get e set para acessá-los."
      ]
    },
    {
      "cell_type": "code",
      "execution_count": 21,
      "metadata": {
        "id": "SqQ8jg25mtgp"
      },
      "outputs": [
        {
          "name": "stdout",
          "output_type": "stream",
          "text": [
            "A nova pessoa tem o nome Vinecius, com idade de 19 anos e é do sexo Masculino\n"
          ]
        }
      ],
      "source": [
        "class Pessoa:\n",
        "    def __init__(self, nome, idade, sexo):\n",
        "        self.__nome = nome\n",
        "        self.__idade = idade\n",
        "        self.__sexo = sexo\n",
        "\n",
        "    def set_nome(self, nome):\n",
        "        self.__nome = nome\n",
        "\n",
        "    def get_nome(self):\n",
        "        return self.__nome\n",
        "    \n",
        "    def set_idade(self, idade):\n",
        "        self.__idade = idade\n",
        "\n",
        "    def get_idade(self):\n",
        "        return self.__idade\n",
        "    \n",
        "    def set_sexo(self, sexo):\n",
        "        self.__sexo = sexo\n",
        "\n",
        "    def get_sexo(self):\n",
        "        return self.__sexo\n",
        "    \n",
        "    def show(self):\n",
        "        print(f\"A nova pessoa tem o nome {self.get_nome()}, com idade de {self.get_idade()} anos e é do sexo {self.get_sexo()}\")\n",
        "    \n",
        "Person = Pessoa(\"Alessandra\", 24, \"Feminino\")\n",
        "Person.set_nome(\"Vinecius\")\n",
        "Person.set_idade(19)\n",
        "Person.set_sexo(\"Masculino\")\n",
        "Person.show()\n"
      ]
    },
    {
      "cell_type": "markdown",
      "metadata": {
        "id": "kizXgYmvm3Su"
      },
      "source": [
        "**Métodos de Classe**\n",
        "\n",
        "* Os métodos de classe em Python não dependem do estado da instância.\n",
        "* Eles são declarados com o decorador @classmethod.\n",
        "* São usados quando queremos operar na classe em vez de em uma instância.\n",
        "* Observação: A principal diferença entre o parâmetro cls e o parâmetro self (usado em métodos de instância) é que self refere-se à instância específica da classe, enquanto cls refere-se à própria classe.\n",
        "* Isso torna cls útil para operações que envolvem a classe como um todo e para definir métodos de classe.\n"
      ]
    },
    {
      "cell_type": "code",
      "execution_count": null,
      "metadata": {
        "id": "jEbmf3NOnIm0"
      },
      "outputs": [
        {
          "name": "stdout",
          "output_type": "stream",
          "text": [
            "25\n"
          ]
        }
      ],
      "source": [
        "class MathUtils:\n",
        "    @classmethod\n",
        "    def square(cls, num):\n",
        "        return num ** 2\n",
        "\n",
        "print(MathUtils.square(10))\n"
      ]
    },
    {
      "cell_type": "code",
      "execution_count": 40,
      "metadata": {},
      "outputs": [
        {
          "name": "stdout",
          "output_type": "stream",
          "text": [
            "Alice tem 35 anos.\n",
            "Bob tem 40 anos.\n",
            "\n",
            "Alice tem 35 anos.\n",
            "Bob tem 40 anos.\n"
          ]
        }
      ],
      "source": [
        "class Pessoa:\n",
        "    ano_atual = 2025 \n",
        "    def __init__(self, nome, ano_nascimento):\n",
        "        self.nome = nome\n",
        "        self.ano_nascimento = ano_nascimento\n",
        "\n",
        "    @classmethod\n",
        "    def calcular_idade(cls, ano_nascimento):\n",
        "        return cls.ano_atual - ano_nascimento\n",
        "    \n",
        "\n",
        "pessoa1 = Pessoa(\"Alice\", 1990)\n",
        "pessoa2 = Pessoa(\"Bob\", 1985)\n",
        "\n",
        "\n",
        "idade1 = Pessoa.calcular_idade(pessoa1.ano_nascimento)\n",
        "idade2 = Pessoa.calcular_idade(pessoa2.ano_nascimento)\n",
        "\n",
        "print(f'{pessoa1.nome} tem {idade1} anos.')\n",
        "print(f'{pessoa2.nome} tem {idade2} anos.\\n')\n",
        "\n",
        "#ou\n",
        "\n",
        "class Pessoa:\n",
        "    def __init__(self, nome, ano_nascimento):\n",
        "        self.nome = nome\n",
        "        self.ano_nascimento = ano_nascimento\n",
        "\n",
        "    @classmethod\n",
        "    def calcular_idade(cls, ano_atual, ano_nascimento):\n",
        "        return ano_atual - ano_nascimento\n",
        "    \n",
        "\n",
        "pessoa1 = Pessoa(\"Alice\", 1990)\n",
        "pessoa2 = Pessoa(\"Bob\", 1985)\n",
        "\n",
        "ano_atual = 2025\n",
        "\n",
        "Pessoa.calcular_idade(ano_atual, pessoa1.ano_nascimento)\n",
        "Pessoa.calcular_idade(ano_atual, pessoa2.ano_nascimento)\n",
        "\n",
        "print(f'{pessoa1.nome} tem {Pessoa.calcular_idade(ano_atual, pessoa1.ano_nascimento)} anos.')\n",
        "print(f'{pessoa2.nome} tem {Pessoa.calcular_idade(ano_atual, pessoa2.ano_nascimento)} anos.')\n",
        "\n"
      ]
    },
    {
      "cell_type": "markdown",
      "metadata": {
        "id": "tijE8qYynUNw"
      },
      "source": [
        "**Exercício de Fixação 4**\n",
        "\n",
        "Crie uma classe chamada Matematica com um método de classe que calcula a média de uma lista de números."
      ]
    },
    {
      "cell_type": "code",
      "execution_count": 43,
      "metadata": {
        "id": "2fPs2GZTnaBV"
      },
      "outputs": [
        {
          "name": "stdout",
          "output_type": "stream",
          "text": [
            "15.0\n"
          ]
        }
      ],
      "source": [
        "class Matematica:\n",
        "    @classmethod\n",
        "    def media(cls, num):\n",
        "        return sum(num) / len(num)school.adicionar_professor(prof)\n",
        "    \n",
        "numeros = [5, 10, 15, 20, 25]\n",
        "print(Matematica.media(numeros))\n",
        "        "
      ]
    },
    {
      "cell_type": "markdown",
      "metadata": {
        "id": "sFCaUYOQnas6"
      },
      "source": [
        "**Métodos Estáticos**\n",
        "\n",
        "* São métodos definidos em uma classe que não dependem de atributos específicos de instância ou de classe.\n",
        "* Eles são métodos que não requerem acesso a atributos ou métodos de instância e, portanto, não recebem o parâmetro self.\n",
        "* Os métodos estáticos são associados à classe em vez de instâncias individuais, e podem ser chamados diretamente na classe sem a necessidade de criar um objeto.\n",
        "* Métodos estáticos são úteis quando você precisa de uma funcionalidade que pertence à classe como um todo, mas não precisa acessar os atributos específicos de instância ou classe.\n",
        "* Eles são definidos usando o decorador @staticmethod antes da definição do método.\n"
      ]
    },
    {
      "cell_type": "code",
      "execution_count": 1,
      "metadata": {
        "id": "UJqr1wIznlML"
      },
      "outputs": [
        {
          "name": "stdout",
          "output_type": "stream",
          "text": [
            "Soma: 8\n",
            "Subtração: 3\n"
          ]
        }
      ],
      "source": [
        "class MathUtils:\n",
        "    @staticmethod\n",
        "    def add(a, b):\n",
        "        return a + b\n",
        "\n",
        "    @staticmethod\n",
        "    def subtract(a, b):\n",
        "        return a - b\n",
        "\n",
        "# Chamando métodos estáticos diretamente na classe\n",
        "sum_result = MathUtils.add(5, 3)\n",
        "diff_result = MathUtils.subtract(10, 7)\n",
        "\n",
        "print(\"Soma:\", sum_result)      # Saída: Soma: 8\n",
        "print(\"Subtração:\", diff_result) # Saída: Subtração: 3\n"
      ]
    },
    {
      "cell_type": "markdown",
      "metadata": {
        "id": "HU_qihVUoGVn"
      },
      "source": [
        "**Exercício de Fixação 5**\n",
        "\n",
        "Crie um método estático na classe Carro que imprime uma mensagem genérica sobre carros."
      ]
    },
    {
      "cell_type": "code",
      "execution_count": null,
      "metadata": {
        "id": "RtEy2h0woNaa"
      },
      "outputs": [
        {
          "name": "stdout",
          "output_type": "stream",
          "text": [
            "O funcionamento do motor V8 segue os princípios básicos dos motores a combustão interna. Cada cilindro passa pelos quatro tempos do ciclo Otto: admissão, compressão, combustão e escape. No V8, a ordem de ignição dos cilindros é fundamental para um funcionamento suave e para a assinatura sonora característica do motor. \n"
          ]
        }
      ],
      "source": [
        "class Carro:\n",
        "    @staticmethod\n",
        "    def mensagem():\n",
        "        print(\"O funcionamento do motor V8 segue os princípios básicos dos motores a combustão interna. \" \\\n",
        "        \"Cada cilindro passa pelos quatro tempos do ciclo Otto: admissão, compressão, combustão e escape. No V8, a ordem de ignição dos cilindros é \" \\\n",
        "        \"fundamental para um funcionamento suave e para a assinatura sonora característica do motor. \")\n",
        "        \n",
        "mensagem = Carro.mensagem()"
      ]
    },
    {
      "cell_type": "code",
      "execution_count": 25,
      "metadata": {},
      "outputs": [
        {
          "name": "stdout",
          "output_type": "stream",
          "text": [
            "A área do círculo é: 78.53975\n",
            "O valor da multiplicação é: 500\n"
          ]
        }
      ],
      "source": [
        "class Calculadora:\n",
        " PI = 3.14159\n",
        "\n",
        " @classmethod\n",
        " def area_circulo(cls, raio):\n",
        "  return cls.PI * raio ** 2\n",
        " \n",
        " @staticmethod\n",
        " def multiplicacao(a, b):\n",
        "  return a * b\n",
        "\n",
        "raio = 5\n",
        "area = Calculadora.area_circulo(raio)\n",
        "print(f\"A área do círculo é: {area}\")\n",
        "\n",
        "produto = Calculadora.multiplicacao(10, 50)\n",
        "print(f\"O valor da multiplicação é: {produto}\")"
      ]
    },
    {
      "cell_type": "markdown",
      "metadata": {
        "id": "5-yRAr5dntBk"
      },
      "source": [
        "**Slots**\n",
        "\n",
        "* Os slots (também conhecidos como \"caixas\") são uma característica que permite otimizar a utilização de memória e acelerar o acesso a atributos em objetos.\n",
        "* A ideia principal dos slots é restringir dinamicamente os atributos que podem ser definidos em uma instância de classe, o que pode ser útil em situações onde você precisa controlar os atributos que podem ser adicionados a objetos.\n",
        "* Normalmente, em Python, você pode adicionar atributos a objetos em tempo de execução, mesmo que eles não tenham sido definidos na classe.\n",
        "* Isso é possível graças à flexibilidade dinâmica da linguagem.\n",
        "* No entanto, essa flexibilidade pode ter um impacto negativo na utilização de memória, principalmente quando você tem muitas instâncias da mesma classe.\n",
        "* Os slots permitem definir explicitamente quais atributos uma classe pode ter e, consequentemente, otimizar o consumo de memória. Isso é feito através da definição de uma lista de nomes de atributos permitidos na forma de uma variável de classe chamada __slots__.\n"
      ]
    },
    {
      "cell_type": "code",
      "execution_count": null,
      "metadata": {
        "id": "by-rrYiln57H"
      },
      "outputs": [],
      "source": [
        "class Pessoa:\n",
        "    __slots__ = [\"nome\", \"idade\"]\n",
        "\n",
        "    def __init__(self, nome, idade):\n",
        "        self.nome = nome\n",
        "        self.idade = idade\n",
        "\n",
        "pessoa = Pessoa(\"Alice\", 30)\n",
        "print(pessoa.nome)   # Saída: Alice\n",
        "print(pessoa.idade)  # Saída: 30\n",
        "\n",
        "pessoa.email = \"alice@example.com\"  # Isso resultará em um erro, pois \"email\" não está nos slots\n"
      ]
    },
    {
      "cell_type": "markdown",
      "metadata": {
        "id": "kI6-XQv4oURz"
      },
      "source": [
        "**Exercício de Fixação 6**\n",
        "\n",
        "Crie uma classe Estudante com atributos como nome, idade e matrícula. Use slots para otimizar a memória."
      ]
    },
    {
      "cell_type": "code",
      "execution_count": 26,
      "metadata": {
        "id": "wtex83ReodwK"
      },
      "outputs": [
        {
          "name": "stdout",
          "output_type": "stream",
          "text": [
            "Vicenius\n",
            "19\n",
            "202500140\n"
          ]
        }
      ],
      "source": [
        "class Estudante:\n",
        "    __slots__ = [\"nome\", \"idade\", \"matricula\"]\n",
        "\n",
        "    def __init__(self, nome, idade, matricula):\n",
        "        self.nome = nome\n",
        "        self.idade = idade\n",
        "        self.matricula = matricula\n",
        "\n",
        "aluno = Estudante(\"Vicenius\", 19, 202500140)\n",
        "print(aluno.nome)\n",
        "print(aluno.idade)\n",
        "print(aluno.matricula)\n",
        "\n"
      ]
    },
    {
      "cell_type": "markdown",
      "metadata": {
        "id": "Frfr9FRaQZ0d"
      },
      "source": [
        "**Exercícios de Aplicação**\n",
        "\n",
        "Prezado(a) aluno(a),\n",
        "\n",
        "Os exercícios a seguir são de aplicação, o que significa que servem para você praticar o que aprendeu e, quem sabe, perceber que talvez tenha aprendido menos do que achava. Eles são uma excelente (e generosa) oportunidade de aprendizagem, mas também podem virar uma surpresa avaliativa a qualquer momento.\n",
        "Sim, isso mesmo: podem ou não valer pontos extras, pontos na prova ou apenas pontos na sua consciência. O mistério faz parte da graça.\n",
        "Em algum momento aleatório, escolhido por métodos científicos como sorteio mental ou inspiração do café da manhã do professor, pode-se decidir que os exercícios devem ser apresentados. Pode ser na semana que vem, na outra, no último dia de aula, ou — para os otimistas — jamais. Nesse dia (caso ele chegue), só receberá os pontos quem apresentar a lista inteira, inclusive com os exercícios de fixação, resolvida, impressa e linda, como se estivesse indo para um desfile de moda acadêmica.\n",
        "Não haverá desculpas válidas: nem impressora quebrada, nem cachorro com apetite por papel, nem “achei que não ia valer nada”. Só o dever cumprido será recompensado.\n",
        "Portanto, faça os exercícios. Imprima. Guarde com carinho. Trate-os como um bilhete premiado que pode ou não ser sorteado. Viva a emoção da incerteza.\n",
        "Boa sorte (você vai precisar).\n",
        "\n",
        "Observação formal: Esta atividade tem como principal objetivo promover a fixação do conteúdo, incentivar o estudo contínuo e possibilitar a avaliação formativa. A eventual atribuição de valor avaliativo será comunicada no momento oportuno, conforme o planejamento da disciplina e a autonomia didático-pedagógica docente."
      ]
    },
    {
      "cell_type": "markdown",
      "metadata": {
        "id": "VPE9auh6S45I"
      },
      "source": [
        "**Exercício de Aplicação 1**\n",
        "\n",
        "Crie uma classe Cofrinho que representa um cofre digital.\n",
        "\n",
        "Use atributos privados para armazenar o saldo.\n",
        "\n",
        "Implemente métodos para depositar, sacar e consultar o saldo.\n",
        "\n",
        "Crie um método estático chamado converter_para_dolar(valor_em_reais) que converte um valor em reais para dólares com uma taxa fixa.\n",
        "\n"
      ]
    },
    {
      "cell_type": "code",
      "execution_count": 7,
      "metadata": {
        "id": "mKn2mwR-S_Y-"
      },
      "outputs": [
        {
          "name": "stdout",
          "output_type": "stream",
          "text": [
            "Foram adicionados 1500.00 reais a sua conta com sucesso\n",
            "Foi sacado um valor de 45.00 reais da sua conta com sucesso!\n",
            "O saldo do titular Vicenius é de R$1455.00\n",
            "O valor de R$10.00 em dólares é de $1.76.\n"
          ]
        }
      ],
      "source": [
        "class Cofrinho:\n",
        "    def __init__(self, titular, saldo_inicial = 0):\n",
        "        self.__titular = titular\n",
        "        self.__saldo = saldo_inicial\n",
        "\n",
        "    def depositar(self, valor):\n",
        "        self.__saldo += valor\n",
        "        print(f\"Foram adicionados {valor:.2f} reais a sua conta com sucesso\")\n",
        "\n",
        "    def sacar(self, valor):\n",
        "        if self.__saldo >= valor:\n",
        "            self.__saldo -= valor\n",
        "            print(f\"Foi sacado um valor de {valor:.2f} reais da sua conta com sucesso!\")\n",
        "        else:\n",
        "            print(\"Saldo insuficiente para saque\")\n",
        "\n",
        "    def saldo(self):\n",
        "        print(f\"O saldo do titular {self.__titular} é de R${self.__saldo:.2f}\")\n",
        "\n",
        "    @staticmethod\n",
        "    def converter_para_dolar(valor_em_reais):\n",
        "        taxa_fixa = 5.67 \n",
        "        valor_em_dolares = valor_em_reais / taxa_fixa\n",
        "        return f\"O valor de R${valor_em_reais:.2f} em dólares é de ${valor_em_dolares:.2f}.\"\n",
        "\n",
        "\n",
        "\n",
        "Empresario = Cofrinho(\"Vicenius\")\n",
        "Empresario.depositar(1500)\n",
        "Empresario.sacar(45)\n",
        "Empresario.saldo()\n",
        "dolares = Cofrinho.converter_para_dolar(10)\n",
        "print(dolares)"
      ]
    },
    {
      "cell_type": "markdown",
      "metadata": {
        "id": "l4te61d0TAEA"
      },
      "source": [
        "**Exercício de Aplicação 2**\n",
        "\n",
        "Implemente uma classe Produto com nome, preço e quantidade.\n",
        "Depois, crie uma classe Estoque que funcione como um contêiner de produtos (lista interna).\n",
        "\n",
        "Use getters e setters para controlar o acesso ao preço do produto.\n",
        "\n",
        "Permita adicionar, remover e listar produtos no estoque."
      ]
    },
    {
      "cell_type": "code",
      "execution_count": 15,
      "metadata": {
        "id": "wwdMrzWzTHTI"
      },
      "outputs": [
        {
          "name": "stdout",
          "output_type": "stream",
          "text": [
            "O Produto Placa de vídeo foi adicionado a lista com sucesso.\n",
            "O Produto Mouse redragon foi adicionado a lista com sucesso.\n",
            "O Produto Mouse redragon foi removido da lista com sucesso.\n",
            "\n",
            "Produtos no estoque\n",
            "Nome: Placa de vídeo, Preço: R$1300.00, Quantidade: 10\n"
          ]
        }
      ],
      "source": [
        "class Produto:\n",
        "    def __init__(self, nome, preco, quantidade):\n",
        "        self.nome = nome\n",
        "        self.__preco = preco\n",
        "        self.quantidade = quantidade\n",
        "    \n",
        "    def get_preco(self):\n",
        "        return self.__preco\n",
        "    \n",
        "    def set_preco(self, novo_preco):\n",
        "        if novo_preco >= 0:\n",
        "            self.__preco = novo_preco\n",
        "        else:\n",
        "            print(\"O novo preço precisa ser um valor positivo\")\n",
        "\n",
        "class Estoque:\n",
        "    def __init__(self):\n",
        "        self.estoque = []\n",
        "\n",
        "    def adicionar_produto(self, produto):\n",
        "        self.estoque.append(produto)\n",
        "        print(f\"O Produto {produto.nome} foi adicionado a lista com sucesso.\")\n",
        "\n",
        "    def remover_produto(self, produto):\n",
        "        if produto not in self.estoque:\n",
        "            print(\"Produto não encontrado\")\n",
        "        else:\n",
        "            self.estoque.remove(produto)\n",
        "            print(f\"O Produto {produto.nome} foi removido da lista com sucesso.\\n\")\n",
        "\n",
        "    def listar_produtos(self):\n",
        "        if self.estoque:\n",
        "            print(\"Produtos no estoque\")\n",
        "            for produto in self.estoque:\n",
        "                print(f\"Nome: {produto.nome}, Preço: R${produto.get_preco():.2f}, Quantidade: {produto.quantidade}\")\n",
        "        else:\n",
        "            print(\"O estoque está vazio.\")\n",
        "\n",
        "Sacola = Estoque()\n",
        "\n",
        "produto1 = Produto(\"Placa de vídeo\", 1300, 10)\n",
        "produto2 = Produto(\"Mouse redragon\", 120, 5)\n",
        "\n",
        "Sacola.adicionar_produto(produto1)\n",
        "Sacola.adicionar_produto(produto2)\n",
        "\n",
        "Sacola.remover_produto(produto2)\n",
        "Sacola.listar_produtos()\n",
        "\n",
        "\n",
        "\n",
        "    "
      ]
    },
    {
      "cell_type": "markdown",
      "metadata": {
        "id": "A1EDql3HTHqZ"
      },
      "source": [
        "**Exercício de Aplicação 3**\n",
        "\n",
        "Implemente uma classe Livro com título, autor e número de páginas.\n",
        "\n",
        "A classe deve manter um registro de quantos livros foram criados usando um atributo de classe.\n",
        "\n",
        "Implemente um método de classe que retorna esse total.\n",
        "\n",
        "Crie uma classe Biblioteca que armazene os livros (contêiner)."
      ]
    },
    {
      "cell_type": "code",
      "execution_count": 22,
      "metadata": {
        "id": "A0m8xop2TOSH"
      },
      "outputs": [
        {
          "name": "stdout",
          "output_type": "stream",
          "text": [
            "O livro Harry Potter do autor(a) Jk Rowling foi adicionado com sucesso\n",
            "O livro Cães do rei do autor(a) Martin Lensen foi adicionado com sucesso\n",
            "O livro A arte da guerra do autor(a) Sun Tzu foi adicionado com sucesso\n",
            "O livro A arte da guerra do autor(a) Sun Tzu foi removido com sucesso\n",
            "Titulo: Harry Potter, Autor Jk Rowling, Número de páginas 700\n",
            "Titulo: Cães do rei, Autor Martin Lensen, Número de páginas 200\n",
            "Total de livros criados: 3\n"
          ]
        }
      ],
      "source": [
        "class Livro:\n",
        "    total_livros = 0\n",
        "    def __init__(self, titulo, autor, numero_paginas):\n",
        "        self.titulo = titulo\n",
        "        self.autor = autor\n",
        "        self.paginas = numero_paginas\n",
        "        Livro.total_livros += 1\n",
        "\n",
        "    @classmethod\n",
        "    def get_retornar_valor(cls):\n",
        "        return cls.total_livros\n",
        "\n",
        "class Biblioteca:\n",
        "    def __init__(self):\n",
        "        self.livros = []\n",
        "\n",
        "    def adicionar_livro(self, livro):\n",
        "        self.livros.append(livro)\n",
        "        print(f\"O livro {livro.titulo} do autor(a) {livro.autor} foi adicionado com sucesso\")\n",
        "\n",
        "    def remover_livro(self, livro):\n",
        "        if livro in self.livros:\n",
        "            self.livros.remove(livro)\n",
        "            print(f\"O livro {livro.titulo} do autor(a) {livro.autor} foi removido com sucesso\")\n",
        "        else:\n",
        "            print(\"Livro não encontrado\")\n",
        "\n",
        "    def mostrar_livros(self):\n",
        "        if self.livros:\n",
        "            for livro in self.livros:\n",
        "                print(f\"Titulo: {livro.titulo}, Autor {livro.autor}, Número de páginas {livro.paginas}\")\n",
        "        else:\n",
        "            print(\"A lista está vazia\")\n",
        "\n",
        "Estoque = Biblioteca()\n",
        "\n",
        "book1 = Livro(\"Harry Potter\", \"Jk Rowling\", 700)\n",
        "book2 = Livro(\"Cães do rei\", \"Martin Lensen\", 200)\n",
        "book3 = Livro(\"A arte da guerra\", \"Sun Tzu\", 278)\n",
        "\n",
        "Estoque.adicionar_livro(book1)\n",
        "Estoque.adicionar_livro(book2)\n",
        "Estoque.adicionar_livro(book3)\n",
        "\n",
        "Estoque.remover_livro(book3)\n",
        "Estoque.mostrar_livros()\n",
        "\n",
        "print(f\"Total de livros criados: {Livro.get_retornar_valor()}\")\n"
      ]
    },
    {
      "cell_type": "markdown",
      "metadata": {
        "id": "aGt2pMzMTOrB"
      },
      "source": [
        "**Exercício de Aplicação 4**\n",
        "\n",
        "Crie uma classe Usuario com os atributos: nome, email e senha.\n",
        "\n",
        "Use __slots__ para restringir os atributos da classe.\n",
        "\n",
        "Os atributos devem ser privados e acessados apenas via métodos get_ e set_.\n",
        "\n",
        "Tente acessar diretamente os atributos para ver o que acontece.\n",
        "\n"
      ]
    },
    {
      "cell_type": "code",
      "execution_count": 5,
      "metadata": {
        "id": "USRxwxXNTVaj"
      },
      "outputs": [
        {
          "name": "stdout",
          "output_type": "stream",
          "text": [
            "Pedro Lucca\n",
            "pedrin@gmail.com\n",
            "pedroL123\n",
            "O nome do usuário é Pedro Lucca, seu email é pedrin@gmail.com e sua senha é secreta.\n"
          ]
        }
      ],
      "source": [
        "class Usuario:\n",
        "    __slots__ = [\"_Usuario__nome\", \"_Usuario__email\", \"_Usuario__senha\"]\n",
        "\n",
        "    def __init__(self, nome, email, senha):\n",
        "        self.__nome = nome\n",
        "        self.__email = email\n",
        "        self.__senha = senha\n",
        "\n",
        "    def get_nome(self):\n",
        "        return self.__nome\n",
        "    def set_nome(self, alterar_nome):\n",
        "        self.__nome = alterar_nome\n",
        "\n",
        "    def get_email(self):\n",
        "        return self.__email\n",
        "    def set_email(self, alterar_email):\n",
        "        self.__email = alterar_email\n",
        "\n",
        "    def get_senha(self):\n",
        "        return self.__senha\n",
        "    def set_senha(self, alterar_senha):\n",
        "        self.__senha = alterar_senha\n",
        "\n",
        "    def get_info(self):\n",
        "        return f\"O nome do usuário é {self.__nome}, seu email é {self.__email} e sua senha é secreta.\"\n",
        "\n",
        "\n",
        "Cliente2 = Usuario(\"Pedro\", \"pedro@gmail.com\", \"pedro123\")\n",
        "Cliente2.set_nome(\"Pedro Lucca\")\n",
        "print(Cliente2.get_nome())\n",
        "\n",
        "Cliente2.set_email(\"pedrin@gmail.com\")\n",
        "print(Cliente2.get_email())\n",
        "\n",
        "Cliente2.set_senha(\"pedroL123\")\n",
        "print(Cliente2.get_senha())\n",
        "\n",
        "print(Cliente2.get_info())\n"
      ]
    },
    {
      "cell_type": "markdown",
      "metadata": {
        "id": "_EIFoT-FTV88"
      },
      "source": [
        "**Exercício de Aplicação 5**\n",
        "Crie uma classe Relatorio com titulo e dados como atributos.\n",
        "\n",
        "Use __slots__ para limitar os atributos.\n",
        "\n",
        "Adicione um método estático chamado exportar_para_txt(relatorio) que recebe um objeto Relatorio e salva seu conteúdo em um arquivo .txt."
      ]
    },
    {
      "cell_type": "code",
      "execution_count": 7,
      "metadata": {
        "id": "FvJDh0sMTcm7"
      },
      "outputs": [
        {
          "name": "stdout",
          "output_type": "stream",
          "text": [
            "Relatório exportado com sucesso!\n"
          ]
        }
      ],
      "source": [
        "class Relatorio:\n",
        "    __slots__ = [\"titulo\", \"dados\"]\n",
        "\n",
        "    def __init__(self, titulo, dados):\n",
        "        self.titulo = titulo\n",
        "        self.dados = dados\n",
        "    @staticmethod\n",
        "    def exportar_para_txt(relatorio):\n",
        "        with open(f\"{relatorio.titulo}.txt\", \"w\", encoding=\"utf-8\") as arquivo:\n",
        "            arquivo.write(f\"Título: {relatorio.titulo}\\n\\n\")\n",
        "            arquivo.write(f\"Dados:\\n{relatorio.dados}\")\n",
        "\n",
        "relatorio1 = Relatorio(\"Relatorio_de_Vendas\", \"Dados das vendas do mês...\")\n",
        "Relatorio.exportar_para_txt(relatorio1)\n",
        "\n",
        "print(\"Relatório exportado com sucesso!\")"
      ]
    },
    {
      "cell_type": "markdown",
      "metadata": {
        "id": "0bsnrTG3Tc7g"
      },
      "source": [
        "**Exercício de Aplicação 6**\n",
        "Crie uma classe Funcionario com nome, cargo e salário (privado).\n",
        "\n",
        "Use métodos para acessar e atualizar o salário.\n",
        "\n",
        "Adicione um método de classe que retorna a quantidade de funcionários criados."
      ]
    },
    {
      "cell_type": "code",
      "execution_count": 8,
      "metadata": {
        "id": "NaNSYNeUTkxH"
      },
      "outputs": [
        {
          "name": "stdout",
          "output_type": "stream",
          "text": [
            "2\n"
          ]
        },
        {
          "data": {
            "text/plain": [
              "'O funcionario Vicenius possui o cargo estagiário e recebe 1250.00 reais'"
            ]
          },
          "execution_count": 8,
          "metadata": {},
          "output_type": "execute_result"
        }
      ],
      "source": [
        "class Funcionario:\n",
        "    total_funcionarios = 0\n",
        "    def __init__(self, nome, cargo, salario):\n",
        "        self.nome = nome\n",
        "        self.cargo = cargo\n",
        "        self.salario = salario\n",
        "        Funcionario.total_funcionarios += 1\n",
        "\n",
        "    def set_salario(self, novo_salario):\n",
        "        self.salario = novo_salario\n",
        "    def get_salario(self):\n",
        "        return self.salario\n",
        "\n",
        "    @classmethod\n",
        "    def quantidade_funcionario(cls):\n",
        "        return cls.total_funcionarios\n",
        "\n",
        "    def get_info(self):\n",
        "        return(f\"O funcionario {self.nome} possui o cargo {self.cargo} e recebe {self.salario:.2f} reais\")\n",
        "\n",
        "func = Funcionario(\"Vicenius\", \"estagiário\", 1250)\n",
        "func2 = Funcionario(\"Vitor\", \"estagiario\", 1200)\n",
        "print(Funcionario.quantidade_funcionario())\n",
        "func.get_info()"
      ]
    },
    {
      "cell_type": "markdown",
      "metadata": {
        "id": "RwLI_ozBTlJV"
      },
      "source": [
        "**Exercício de Aplicação 7**\n",
        "Crie classes Produto e Carrinho.\n",
        "\n",
        "Carrinho deve armazenar produtos com suas quantidades e fornecer métodos para adicionar, remover e calcular o total.\n",
        "\n",
        "Use __slots__ na classe Produto para limitar atributos a nome e preço."
      ]
    },
    {
      "cell_type": "code",
      "execution_count": 10,
      "metadata": {
        "id": "jOu4rgWKTqL7"
      },
      "outputs": [
        {
          "name": "stdout",
          "output_type": "stream",
          "text": [
            "Notebook - R$ 3500.00 x 1\n",
            "Mouse - R$ 120.50 x 2\n",
            "Total: R$ 3741.00\n"
          ]
        }
      ],
      "source": [
        "class Produto:\n",
        "    __slots__ = [\"nome\", \"preco\"] \n",
        "\n",
        "    def __init__(self, nome, preco):\n",
        "        self.nome = nome\n",
        "        self.preco = preco\n",
        "\n",
        "class Carrinho:\n",
        "    def __init__(self):\n",
        "        self.itens = {}\n",
        "\n",
        "    def adicionar_produto(self, produto, quantidade):\n",
        "        if produto in self.itens:\n",
        "            self.itens[produto] += quantidade\n",
        "        else:\n",
        "            self.itens[produto] = quantidade\n",
        "\n",
        "    def remover_produto(self, produto):\n",
        "        if produto in self.itens:\n",
        "            del self.itens[produto]\n",
        "\n",
        "    def calcular_total(self):\n",
        "        return sum(produto.preco * quantidade for produto, quantidade in self.itens.items())\n",
        "\n",
        "    def exibir_carrinho(self):\n",
        "        for produto, quantidade in self.itens.items():\n",
        "            print(f\"{produto.nome} - R$ {produto.preco:.2f} x {quantidade}\")\n",
        "\n",
        "\n",
        "p1 = Produto(\"Notebook\", 3500.00)\n",
        "p2 = Produto(\"Mouse\", 120.50)\n",
        "\n",
        "carrinho = Carrinho()\n",
        "carrinho.adicionar_produto(p1, 1)\n",
        "carrinho.adicionar_produto(p2, 2)\n",
        "\n",
        "carrinho.exibir_carrinho()\n",
        "print(f\"Total: R$ {carrinho.calcular_total():.2f}\")"
      ]
    }
  ],
  "metadata": {
    "colab": {
      "provenance": []
    },
    "kernelspec": {
      "display_name": "Python 3",
      "name": "python3"
    },
    "language_info": {
      "codemirror_mode": {
        "name": "ipython",
        "version": 3
      },
      "file_extension": ".py",
      "mimetype": "text/x-python",
      "name": "python",
      "nbconvert_exporter": "python",
      "pygments_lexer": "ipython3",
      "version": "3.10.12"
    }
  },
  "nbformat": 4,
  "nbformat_minor": 0
}
