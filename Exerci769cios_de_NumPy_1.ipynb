{
  "cells": [
    {
      "cell_type": "markdown",
      "metadata": {
        "id": "5MqHcV1XcSpT"
      },
      "source": [
        "**Exercício 1: Estatísticas Descritivas**\n",
        "\n",
        "Crie um array de 50 números inteiros aleatórios entre 1 e 100. Calcule e exiba a média, mediana, desvio padrão, valor máximo e valor mínimo."
      ]
    },
    {
      "cell_type": "code",
      "execution_count": 10,
      "metadata": {
        "id": "_dAbsR00caGE"
      },
      "outputs": [
        {
          "name": "stdout",
          "output_type": "stream",
          "text": [
            "Array: [ 67  71  21   4  24  47  87   9   2  52  42  49  64  76  63  63  77  16\n",
            "  61  17  77  68  15  38  72  69  25   9   7  47  14  86  75  72   5  18\n",
            "  83  47  56  41  22  46   2  21  92  11 100  20  52  44]\n",
            "\n",
            "\n",
            "Média: 44.92\n",
            "Mediana: 47.0\n",
            "Devio padrão: 27.88\n",
            "Valor Máximo: 100\n",
            "Valor Mínimo: 2\n"
          ]
        }
      ],
      "source": [
        "import numpy as np  \n",
        "array = np.random.randint(1, 101, 50)\n",
        "media = np.mean(array)\n",
        "mediana = np.median(array)\n",
        "desvio_padrao = np.std(array)\n",
        "valor_maximo = np.max(array)\n",
        "valor_minimo = np.min(array)\n",
        "print(f\"Array: {array}\")\n",
        "print(\"\\n\")\n",
        "print(f\"Média: {media}\")\n",
        "print(f\"Mediana: {mediana}\")\n",
        "print(f\"Devio padrão: {desvio_padrao:.2f}\")\n",
        "print(f\"Valor Máximo: {valor_maximo}\")\n",
        "print(f\"Valor Mínimo: {valor_minimo}\")\n"
      ]
    },
    {
      "cell_type": "markdown",
      "metadata": {
        "id": "JeJPW98VcbG9"
      },
      "source": [
        "**Exercício 2: Operações com Matrizes**\n",
        "\n",
        "Crie duas matrizes 3x3 de números inteiros aleatórios entre 1 e 10. Realize as operações de adição, subtração, multiplicação e divisão elemento por elemento entre as duas matrizes."
      ]
    },
    {
      "cell_type": "code",
      "execution_count": 17,
      "metadata": {
        "id": "02tMKXtTcqRM"
      },
      "outputs": [
        {
          "name": "stdout",
          "output_type": "stream",
          "text": [
            "Matriz 1:\n",
            " [[ 6  3  3]\n",
            " [ 9  2  1]\n",
            " [10  7  9]]\n",
            "Matriz 2:\n",
            " [[10  6  1]\n",
            " [ 6  9  1]\n",
            " [ 2  4 10]]\n",
            "Soma:\n",
            " [[16  9  4]\n",
            " [15 11  2]\n",
            " [12 11 19]]\n",
            "Subtração:\n",
            " [[-4 -3  2]\n",
            " [ 3 -7  0]\n",
            " [ 8  3 -1]]\n",
            "Multiplicação:\n",
            " [[60 18  3]\n",
            " [54 18  1]\n",
            " [20 28 90]]\n",
            "Divisão:\n",
            " [[0.6        0.5        3.        ]\n",
            " [1.5        0.22222222 1.        ]\n",
            " [5.         1.75       0.9       ]]\n"
          ]
        }
      ],
      "source": [
        "import numpy as np\n",
        "matriz1 = np.random.randint(1, 11,(3, 3))\n",
        "matriz2 = np.random.randint(1, 11,(3, 3))\n",
        "\n",
        "soma = matriz1 + matriz2\n",
        "subtracao = matriz1 - matriz2\n",
        "multiplicacao = matriz1 * matriz2\n",
        "divisao = matriz1 / matriz2\n",
        "print(f\"Matriz 1:\\n {matriz1}\")\n",
        "print(f\"Matriz 2:\\n {matriz2}\")\n",
        "print(f\"Soma:\\n {soma}\")\n",
        "print(f\"Subtração:\\n {subtracao}\")\n",
        "print(f\"Multiplicação:\\n {multiplicacao}\")\n",
        "print(f\"Divisão:\\n {divisao}\")\n"
      ]
    },
    {
      "cell_type": "markdown",
      "metadata": {
        "id": "uDBACVC8cvek"
      },
      "source": [
        "**Exercício 3: Operações de Agregação**\n",
        "\n",
        "Crie uma matriz 4x4 de números inteiros aleatórios entre 1 e 20. Calcule e exiba a soma dos elementos para cada linha e para cada coluna."
      ]
    },
    {
      "cell_type": "code",
      "execution_count": 19,
      "metadata": {
        "id": "t7vqqYlfc3uC"
      },
      "outputs": [
        {
          "name": "stdout",
          "output_type": "stream",
          "text": [
            "Matriz:\n",
            " [[ 8 10  6 11]\n",
            " [15  2 11 12]\n",
            " [19 15  8  6]\n",
            " [15  1  9  3]]\n",
            "Soma das linhas:\n",
            " [35 40 48 28]\n",
            "Soma das colunas:\n",
            " [57 28 34 32]\n"
          ]
        }
      ],
      "source": [
        "import numpy as np\n",
        "matriz = np.random.randint(1, 21,(4, 4))\n",
        "soma_linhas = np.sum(matriz, axis=1)\n",
        "soma_colunas = np.sum(matriz, axis=0)\n",
        "\n",
        "print(f\"Matriz:\\n {matriz}\")\n",
        "print(f\"Soma das linhas:\\n {soma_linhas}\")\n",
        "print(f\"Soma das colunas:\\n {soma_colunas}\")"
      ]
    },
    {
      "cell_type": "markdown",
      "metadata": {
        "id": "_7ELGR0tc-Zl"
      },
      "source": [
        "**Exercício 4: Filtragem de Valores**\n",
        "\n",
        "Crie um array de 30 números inteiros aleatórios entre 0 e 50. Encontre e exiba todos os valores que são maiores que 25."
      ]
    },
    {
      "cell_type": "code",
      "execution_count": 20,
      "metadata": {
        "id": "GKMCRZQrdB9P"
      },
      "outputs": [
        {
          "name": "stdout",
          "output_type": "stream",
          "text": [
            "Array completo:\n",
            " [31 29 29 47  6  5 44 48 43 36 37 41  8 41 25 39  1 15 23 42 20 25  9 12\n",
            " 32 30 34 17 21 25]\n",
            "Valores maiores que 25:\n",
            " [31 29 29 47 44 48 43 36 37 41 41 39 42 32 30 34]\n"
          ]
        }
      ],
      "source": [
        "import numpy as np\n",
        "array = np.random.randint(0, 51, 30)\n",
        "valores_maiores_25 = array[array > 25]\n",
        "print(f\"Array completo:\\n {array}\")\n",
        "print(f\"Valores maiores que 25:\\n {valores_maiores_25}\")"
      ]
    },
    {
      "cell_type": "markdown",
      "metadata": {
        "id": "WfgLU2IrdKQ6"
      },
      "source": [
        "**Exercício 5: Criação e Manipulação de Arrays Multidimensionais**\n",
        "\n",
        "Crie uma matriz 3x3x3 de números inteiros aleatórios entre 1 e 10. Calcule a soma total dos elementos e a soma cumulativa."
      ]
    },
    {
      "cell_type": "code",
      "execution_count": 21,
      "metadata": {
        "id": "tvws8aE_dTBv"
      },
      "outputs": [
        {
          "name": "stdout",
          "output_type": "stream",
          "text": [
            "Matriz original:\n",
            " [[[ 3  2  8]\n",
            "  [ 7  7  3]\n",
            "  [ 4  8  5]]\n",
            "\n",
            " [[ 1  7  9]\n",
            "  [10  4 10]\n",
            "  [ 5  2 10]]\n",
            "\n",
            " [[ 5 10  5]\n",
            "  [ 5  6 10]\n",
            "  [ 7  5  2]]]\n",
            "Soma total:\n",
            " 160\n",
            "Soma cumulativa:\n",
            " [  3   5  13  20  27  30  34  42  47  48  55  64  74  78  88  93  95 105\n",
            " 110 120 125 130 136 146 153 158 160]\n"
          ]
        }
      ],
      "source": [
        "import numpy as np\n",
        "matriz = np.random.randint(1, 11, (3, 3, 3))\n",
        "soma_total = np.sum(matriz)\n",
        "soma_cumulativa = np.cumsum(matriz)\n",
        "print(f\"Matriz original:\\n {matriz}\")\n",
        "print(f\"Soma total:\\n {soma_total}\")\n",
        "print(f\"Soma cumulativa:\\n {soma_cumulativa}\")"
      ]
    }
  ],
  "metadata": {
    "colab": {
      "provenance": []
    },
    "kernelspec": {
      "display_name": "Python 3",
      "name": "python3"
    },
    "language_info": {
      "codemirror_mode": {
        "name": "ipython",
        "version": 3
      },
      "file_extension": ".py",
      "mimetype": "text/x-python",
      "name": "python",
      "nbconvert_exporter": "python",
      "pygments_lexer": "ipython3",
      "version": "3.10.12"
    }
  },
  "nbformat": 4,
  "nbformat_minor": 0
}
