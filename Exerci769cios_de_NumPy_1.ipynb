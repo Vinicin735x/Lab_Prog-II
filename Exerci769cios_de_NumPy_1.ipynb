{
 "cells": [
  {
   "cell_type": "markdown",
   "metadata": {
    "id": "5MqHcV1XcSpT"
   },
   "source": [
    "**Exercício 1: Estatísticas Descritivas**\n",
    "\n",
    "Crie um array de 50 números inteiros aleatórios entre 1 e 100. Calcule e exiba a média, mediana, desvio padrão, valor máximo e valor mínimo."
   ]
  },
  {
   "cell_type": "code",
   "execution_count": 1,
   "metadata": {
    "id": "_dAbsR00caGE"
   },
   "outputs": [
    {
     "name": "stdout",
     "output_type": "stream",
     "text": [
      "Array: [ 59  40  56  19  11  25  44  35  61  76  50  71  17  75  38  63  84  78\n",
      "  58  18  62  17  46  25  47  92  18  47  13  38  37  66  48  67  10  92\n",
      "  69  62  10  19  14  58   6  70  19  79  90  35 100  40]\n",
      "\n",
      "\n",
      "Média: 47.48\n",
      "Mediana: 47.0\n",
      "Devio padrão: 25.62\n",
      "Valor Máximo: 100\n",
      "Valor Mínimo: 6\n"
     ]
    }
   ],
   "source": [
    "import numpy as np  \n",
    "array = np.random.randint(1, 101, 50)\n",
    "media = np.mean(array)\n",
    "mediana = np.median(array)\n",
    "desvio_padrao = np.std(array)\n",
    "valor_maximo = np.max(array)\n",
    "valor_minimo = np.min(array)\n",
    "print(f\"Array: {array}\")\n",
    "print(\"\\n\")\n",
    "print(f\"Média: {media}\")\n",
    "print(f\"Mediana: {mediana}\")\n",
    "print(f\"Devio padrão: {desvio_padrao:.2f}\")\n",
    "print(f\"Valor Máximo: {valor_maximo}\")\n",
    "print(f\"Valor Mínimo: {valor_minimo}\")\n"
   ]
  },
  {
   "cell_type": "markdown",
   "metadata": {
    "id": "JeJPW98VcbG9"
   },
   "source": [
    "**Exercício 2: Operações com Matrizes**\n",
    "\n",
    "Crie duas matrizes 3x3 de números inteiros aleatórios entre 1 e 10. Realize as operações de adição, subtração, multiplicação e divisão elemento por elemento entre as duas matrizes."
   ]
  },
  {
   "cell_type": "code",
   "execution_count": 2,
   "metadata": {
    "id": "02tMKXtTcqRM"
   },
   "outputs": [
    {
     "name": "stdout",
     "output_type": "stream",
     "text": [
      "Matriz 1:\n",
      " [[1 5 8]\n",
      " [7 1 2]\n",
      " [2 3 9]]\n",
      "Matriz 2:\n",
      " [[4 1 8]\n",
      " [8 5 2]\n",
      " [4 5 3]]\n",
      "Soma:\n",
      " [[ 5  6 16]\n",
      " [15  6  4]\n",
      " [ 6  8 12]]\n",
      "Subtração:\n",
      " [[-3  4  0]\n",
      " [-1 -4  0]\n",
      " [-2 -2  6]]\n",
      "Multiplicação:\n",
      " [[ 4  5 64]\n",
      " [56  5  4]\n",
      " [ 8 15 27]]\n",
      "Divisão:\n",
      " [[0.25  5.    1.   ]\n",
      " [0.875 0.2   1.   ]\n",
      " [0.5   0.6   3.   ]]\n"
     ]
    }
   ],
   "source": [
    "import numpy as np\n",
    "matriz1 = np.random.randint(1, 11,(3, 3))\n",
    "matriz2 = np.random.randint(1, 11,(3, 3))\n",
    "\n",
    "soma = matriz1 + matriz2\n",
    "subtracao = matriz1 - matriz2\n",
    "multiplicacao = matriz1 * matriz2\n",
    "divisao = matriz1 / matriz2\n",
    "print(f\"Matriz 1:\\n {matriz1}\")\n",
    "print(f\"Matriz 2:\\n {matriz2}\")\n",
    "print(f\"Soma:\\n {soma}\")\n",
    "print(f\"Subtração:\\n {subtracao}\")\n",
    "print(f\"Multiplicação:\\n {multiplicacao}\")\n",
    "print(f\"Divisão:\\n {divisao}\")\n"
   ]
  },
  {
   "cell_type": "markdown",
   "metadata": {
    "id": "uDBACVC8cvek"
   },
   "source": [
    "**Exercício 3: Operações de Agregação**\n",
    "\n",
    "Crie uma matriz 4x4 de números inteiros aleatórios entre 1 e 20. Calcule e exiba a soma dos elementos para cada linha e para cada coluna."
   ]
  },
  {
   "cell_type": "code",
   "execution_count": 19,
   "metadata": {
    "id": "t7vqqYlfc3uC"
   },
   "outputs": [
    {
     "name": "stdout",
     "output_type": "stream",
     "text": [
      "Matriz:\n",
      " [[ 8 10  6 11]\n",
      " [15  2 11 12]\n",
      " [19 15  8  6]\n",
      " [15  1  9  3]]\n",
      "Soma das linhas:\n",
      " [35 40 48 28]\n",
      "Soma das colunas:\n",
      " [57 28 34 32]\n"
     ]
    }
   ],
   "source": [
    "import numpy as np\n",
    "matriz = np.random.randint(1, 21,(4, 4))\n",
    "soma_linhas = np.sum(matriz, axis=1)\n",
    "soma_colunas = np.sum(matriz, axis=0)\n",
    "\n",
    "print(f\"Matriz:\\n {matriz}\")\n",
    "print(f\"Soma das linhas:\\n {soma_linhas}\")\n",
    "print(f\"Soma das colunas:\\n {soma_colunas}\")"
   ]
  },
  {
   "cell_type": "markdown",
   "metadata": {
    "id": "_7ELGR0tc-Zl"
   },
   "source": [
    "**Exercício 4: Filtragem de Valores**\n",
    "\n",
    "Crie um array de 30 números inteiros aleatórios entre 0 e 50. Encontre e exiba todos os valores que são maiores que 25."
   ]
  },
  {
   "cell_type": "code",
   "execution_count": 20,
   "metadata": {
    "id": "GKMCRZQrdB9P"
   },
   "outputs": [
    {
     "name": "stdout",
     "output_type": "stream",
     "text": [
      "Array completo:\n",
      " [31 29 29 47  6  5 44 48 43 36 37 41  8 41 25 39  1 15 23 42 20 25  9 12\n",
      " 32 30 34 17 21 25]\n",
      "Valores maiores que 25:\n",
      " [31 29 29 47 44 48 43 36 37 41 41 39 42 32 30 34]\n"
     ]
    }
   ],
   "source": [
    "import numpy as np\n",
    "array = np.random.randint(0, 51, 30)\n",
    "valores_maiores_25 = array[array > 25]\n",
    "print(f\"Array completo:\\n {array}\")\n",
    "print(f\"Valores maiores que 25:\\n {valores_maiores_25}\")"
   ]
  },
  {
   "cell_type": "markdown",
   "metadata": {
    "id": "WfgLU2IrdKQ6"
   },
   "source": [
    "**Exercício 5: Criação e Manipulação de Arrays Multidimensionais**\n",
    "\n",
    "Crie uma matriz 3x3x3 de números inteiros aleatórios entre 1 e 10. Calcule a soma total dos elementos e a soma cumulativa."
   ]
  },
  {
   "cell_type": "code",
   "execution_count": 21,
   "metadata": {
    "id": "tvws8aE_dTBv"
   },
   "outputs": [
    {
     "name": "stdout",
     "output_type": "stream",
     "text": [
      "Matriz original:\n",
      " [[[ 3  2  8]\n",
      "  [ 7  7  3]\n",
      "  [ 4  8  5]]\n",
      "\n",
      " [[ 1  7  9]\n",
      "  [10  4 10]\n",
      "  [ 5  2 10]]\n",
      "\n",
      " [[ 5 10  5]\n",
      "  [ 5  6 10]\n",
      "  [ 7  5  2]]]\n",
      "Soma total:\n",
      " 160\n",
      "Soma cumulativa:\n",
      " [  3   5  13  20  27  30  34  42  47  48  55  64  74  78  88  93  95 105\n",
      " 110 120 125 130 136 146 153 158 160]\n"
     ]
    }
   ],
   "source": [
    "import numpy as np\n",
    "matriz = np.random.randint(1, 11, (3, 3, 3))\n",
    "soma_total = np.sum(matriz)\n",
    "soma_cumulativa = np.cumsum(matriz)\n",
    "print(f\"Matriz original:\\n {matriz}\")\n",
    "print(f\"Soma total:\\n {soma_total}\")\n",
    "print(f\"Soma cumulativa:\\n {soma_cumulativa}\")"
   ]
  },
  {
   "cell_type": "code",
   "execution_count": 4,
   "metadata": {},
   "outputs": [
    {
     "data": {
      "text/plain": [
       "array([ 6. ,  7. ,  0. ,  1.2, 10. ])"
      ]
     },
     "execution_count": 4,
     "metadata": {},
     "output_type": "execute_result"
    }
   ],
   "source": [
    "import numpy as np\n",
    "minha_lista = [6, 7, 0, 1.2, 10]\n",
    "arr1 = np.array(minha_lista)\n",
    "arr1"
   ]
  },
  {
   "cell_type": "code",
   "execution_count": 5,
   "metadata": {},
   "outputs": [
    {
     "data": {
      "text/plain": [
       "array([[1, 2, 3],\n",
       "       [4, 5, 6]])"
      ]
     },
     "execution_count": 5,
     "metadata": {},
     "output_type": "execute_result"
    }
   ],
   "source": [
    "import numpy as np\n",
    "lista_de_listas = [[1, 2, 3], [4, 5, 6]]\n",
    "arr2 = np.array(lista_de_listas)\n",
    "arr2"
   ]
  }
 ],
 "metadata": {
  "colab": {
   "provenance": []
  },
  "kernelspec": {
   "display_name": "Python 3",
   "name": "python3"
  },
  "language_info": {
   "codemirror_mode": {
    "name": "ipython",
    "version": 3
   },
   "file_extension": ".py",
   "mimetype": "text/x-python",
   "name": "python",
   "nbconvert_exporter": "python",
   "pygments_lexer": "ipython3",
   "version": "3.10.12"
  }
 },
 "nbformat": 4,
 "nbformat_minor": 0
}
