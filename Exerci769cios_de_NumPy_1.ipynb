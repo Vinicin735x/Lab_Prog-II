{
 "cells": [
  {
   "cell_type": "markdown",
   "metadata": {
    "id": "5MqHcV1XcSpT"
   },
   "source": [
    "**Exercício 1: Estatísticas Descritivas**\n",
    "\n",
    "Crie um array de 50 números inteiros aleatórios entre 1 e 100. Calcule e exiba a média, mediana, desvio padrão, valor máximo e valor mínimo."
   ]
  },
  {
   "cell_type": "code",
   "execution_count": 6,
   "metadata": {
    "id": "_dAbsR00caGE"
   },
   "outputs": [
    {
     "name": "stdout",
     "output_type": "stream",
     "text": [
      "Array: [80 92 98 63  1 32 92 32 29 36 88 39 21 27 84 17 51 54 94 97 29 43  1 92\n",
      " 73 36 34 76 10 97 25 20 80 49 70 52 63 40 43 75  4 72 95  2  2 46 67 84\n",
      " 74 41]\n",
      "A média dos valores é: 52.44\n",
      "A mediana dos valores é: 50.0\n",
      "O desvio padrão é: 29.96\n",
      "O valor máximo é: 98\n",
      "O valor mínimo é: 1\n"
     ]
    }
   ],
   "source": [
    "import numpy as np\n",
    "array = np.random.randint(1, 101, 50)\n",
    "media = np.mean(array)\n",
    "mediana = np.median(array)\n",
    "desvio_padrao = np.std(array)\n",
    "valor_maximo = np.max(array)\n",
    "valor_minimo = np.min(array)\n",
    "print(f\"Array: {array}\")\n",
    "print(f\"A média dos valores é: {media}\")\n",
    "print(f\"A mediana dos valores é: {mediana}\")\n",
    "print(f\"O desvio padrão é: {desvio_padrao:.2f}\")\n",
    "print(f\"O valor máximo é: {valor_maximo}\")\n",
    "print(f\"O valor mínimo é: {valor_minimo}\")\n",
    "\n"
   ]
  },
  {
   "cell_type": "markdown",
   "metadata": {
    "id": "JeJPW98VcbG9"
   },
   "source": [
    "**Exercício 2: Operações com Matrizes**\n",
    "\n",
    "Crie duas matrizes 3x3 de números inteiros aleatórios entre 1 e 10. Realize as operações de adição, subtração, multiplicação e divisão elemento por elemento entre as duas matrizes."
   ]
  },
  {
   "cell_type": "code",
   "execution_count": 4,
   "metadata": {
    "id": "02tMKXtTcqRM"
   },
   "outputs": [
    {
     "name": "stdout",
     "output_type": "stream",
     "text": [
      "Matriz 1: [[5 5 9]\n",
      " [3 6 5]\n",
      " [4 4 4]]\n",
      "\n",
      "Matriz 2: [[1 2 1]\n",
      " [8 9 8]\n",
      " [3 8 3]]\n",
      "\n",
      "Soma: [[ 6  7 10]\n",
      " [11 15 13]\n",
      " [ 7 12  7]]\n",
      "\n",
      "Subtração: [[ 4  3  8]\n",
      " [-5 -3 -3]\n",
      " [ 1 -4  1]]\n",
      "\n",
      "Multiplicação: [[ 5 10  9]\n",
      " [24 54 40]\n",
      " [12 32 12]]\n",
      "\n",
      "Divisão: [[5.         2.5        9.        ]\n",
      " [0.375      0.66666667 0.625     ]\n",
      " [1.33333333 0.5        1.33333333]]\n",
      "\n"
     ]
    }
   ],
   "source": [
    "import numpy as np\n",
    "matriz1 = np.random.randint(1, 11,(3,3))\n",
    "matriz2 = np.random.randint(1, 11,(3,3))\n",
    "soma = matriz1 + matriz2\n",
    "multiplicacao = matriz1 * matriz2\n",
    "subtracao = matriz1 - matriz2\n",
    "divisao = matriz1 / matriz2\n",
    "print(f\"Matriz 1: {matriz1}\\n\")\n",
    "print(f\"Matriz 2: {matriz2}\\n\")\n",
    "print(f\"Soma: {soma}\\n\")\n",
    "print(f\"Subtração: {subtracao}\\n\")\n",
    "print(f\"Multiplicação: {multiplicacao}\\n\")\n",
    "print(f\"Divisão: {divisao}\\n\")\n"
   ]
  },
  {
   "cell_type": "markdown",
   "metadata": {
    "id": "uDBACVC8cvek"
   },
   "source": [
    "**Exercício 3: Operações de Agregação**\n",
    "\n",
    "Crie uma matriz 4x4 de números inteiros aleatórios entre 1 e 20. Calcule e exiba a soma dos elementos para cada linha e para cada coluna."
   ]
  },
  {
   "cell_type": "code",
   "execution_count": 10,
   "metadata": {
    "id": "t7vqqYlfc3uC"
   },
   "outputs": [
    {
     "name": "stdout",
     "output_type": "stream",
     "text": [
      "Matriz:\n",
      " [[10 13 16 10]\n",
      " [18  1 20 14]\n",
      " [ 4 12  4 13]\n",
      " [ 7 15  9  2]]\n",
      "Soma das linhas:\n",
      " [49 53 33 33]\n",
      "Soma das colunas:\n",
      " [39 41 49 39]\n"
     ]
    }
   ],
   "source": [
    "import numpy as np\n",
    "matriz = np.random.randint(1, 21,(4, 4))\n",
    "soma_linhas = np.sum(matriz, axis=1)\n",
    "soma_colunas = np.sum(matriz, axis=0)\n",
    "print(f\"Matriz:\\n {matriz}\")\n",
    "print(f\"Soma das linhas:\\n {soma_linhas}\")\n",
    "print(f\"Soma das colunas:\\n {soma_colunas}\")"
   ]
  },
  {
   "cell_type": "markdown",
   "metadata": {
    "id": "_7ELGR0tc-Zl"
   },
   "source": [
    "**Exercício 4: Filtragem de Valores**\n",
    "\n",
    "Crie um array de 30 números inteiros aleatórios entre 0 e 50. Encontre e exiba todos os valores que são maiores que 25."
   ]
  },
  {
   "cell_type": "code",
   "execution_count": 15,
   "metadata": {
    "id": "GKMCRZQrdB9P"
   },
   "outputs": [
    {
     "name": "stdout",
     "output_type": "stream",
     "text": [
      "Array:\n",
      " [10 40 22 47 42 42 11 30 39 16 22 26  9 40 41 27  6 40 35 28 49  3  7 38\n",
      " 33 25 42 37 15 34]\n",
      "Valores maiores que 25:\n",
      " [40 47 42 42 30 39 26 40 41 27 40 35 28 49 38 33 42 37 34]\n"
     ]
    }
   ],
   "source": [
    "import numpy as np\n",
    "array = np.random.randint(0, 51, 30)\n",
    "valores_maiores_25 = array[array > 25]\n",
    "print(f\"Array:\\n {array}\")\n",
    "print(f\"Valores maiores que 25:\\n {valores_maiores_25}\")"
   ]
  },
  {
   "cell_type": "markdown",
   "metadata": {
    "id": "WfgLU2IrdKQ6"
   },
   "source": [
    "**Exercício 5: Criação e Manipulação de Arrays Multidimensionais**\n",
    "\n",
    "Crie uma matriz 3x3x3 de números inteiros aleatórios entre 1 e 10. Calcule a soma total dos elementos e a soma cumulativa."
   ]
  },
  {
   "cell_type": "code",
   "execution_count": 19,
   "metadata": {
    "id": "tvws8aE_dTBv"
   },
   "outputs": [
    {
     "name": "stdout",
     "output_type": "stream",
     "text": [
      "Matriz:\n",
      " [[[ 3  8  4]\n",
      "  [ 5 10 10]\n",
      "  [ 3  9  6]]\n",
      "\n",
      " [[ 6  4  6]\n",
      "  [ 3  9  3]\n",
      "  [ 5  2  5]]\n",
      "\n",
      " [[ 6  1  2]\n",
      "  [ 4  5  2]\n",
      "  [ 9  2  3]]]\n",
      "Soma Total:\n",
      " 135\n",
      "Soma acumulativa:\n",
      " [  3  11  15  20  30  40  43  52  58  64  68  74  77  86  89  94  96 101\n",
      " 107 108 110 114 119 121 130 132 135]\n"
     ]
    }
   ],
   "source": [
    "import numpy as np\n",
    "matriz3 = np.random.randint(1, 11, (3, 3, 3))\n",
    "soma_total = np.sum(matriz3)\n",
    "soma_acumulativa = np.cumsum(matriz3)\n",
    "print(f\"Matriz:\\n {matriz3}\")\n",
    "print(f\"Soma Total:\\n {soma_total}\")\n",
    "print(f\"Soma acumulativa:\\n {soma_acumulativa}\")"
   ]
  },
  {
   "cell_type": "code",
   "execution_count": 4,
   "metadata": {},
   "outputs": [
    {
     "data": {
      "text/plain": [
       "array([ 6. ,  7. ,  0. ,  1.2, 10. ])"
      ]
     },
     "execution_count": 4,
     "metadata": {},
     "output_type": "execute_result"
    }
   ],
   "source": [
    "import numpy as np\n",
    "minha_lista = [6, 7, 0, 1.2, 10]\n",
    "arr1 = np.array(minha_lista)\n",
    "arr1"
   ]
  },
  {
   "cell_type": "code",
   "execution_count": 5,
   "metadata": {},
   "outputs": [
    {
     "data": {
      "text/plain": [
       "array([[1, 2, 3],\n",
       "       [4, 5, 6]])"
      ]
     },
     "execution_count": 5,
     "metadata": {},
     "output_type": "execute_result"
    }
   ],
   "source": [
    "import numpy as np\n",
    "lista_de_listas = [[1, 2, 3], [4, 5, 6]]\n",
    "arr2 = np.array(lista_de_listas)\n",
    "arr2"
   ]
  }
 ],
 "metadata": {
  "colab": {
   "provenance": []
  },
  "kernelspec": {
   "display_name": "Python 3",
   "name": "python3"
  },
  "language_info": {
   "codemirror_mode": {
    "name": "ipython",
    "version": 3
   },
   "file_extension": ".py",
   "mimetype": "text/x-python",
   "name": "python",
   "nbconvert_exporter": "python",
   "pygments_lexer": "ipython3",
   "version": "3.10.12"
  }
 },
 "nbformat": 4,
 "nbformat_minor": 0
}
