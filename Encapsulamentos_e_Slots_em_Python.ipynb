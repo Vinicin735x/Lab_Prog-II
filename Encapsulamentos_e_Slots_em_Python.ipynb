{
 "cells": [
  {
   "cell_type": "markdown",
   "metadata": {
    "id": "20IXoMI3jmqI"
   },
   "source": [
    "# Encapsulamento e slots em Python#\n",
    "\n",
    "* Uma classe contêiner em Python é uma classe que contém outros objetos ou instâncias de classes, permitindo agrupar dados relacionados e fornecer uma maneira organizada de acessá-los e manipulá-los.\n",
    "* Em Python, existem várias classes contêiner built-in, como listas, tuplas, conjuntos (sets) e dicionários.\n",
    "* No entanto, você também pode criar suas próprias classes contêiner personalizadas, definindo os métodos especiais apropriados para a manipulação dos elementos contidos.\n"
   ]
  },
  {
   "cell_type": "code",
   "execution_count": 4,
   "metadata": {
    "colab": {
     "base_uri": "https://localhost:8080/"
    },
    "id": "AxsBs_4Pj8Oi",
    "outputId": "098f956c-9e0a-4156-f931-50d8c99953dd"
   },
   "outputs": [
    {
     "name": "stdout",
     "output_type": "stream",
     "text": [
      "Itens no carrinho:\n",
      "Camiseta\n",
      "Calça\n",
      "Sapatos\n",
      "Creatina\n",
      "\n",
      "Itens no carrinho após remoção:\n",
      "Calça\n",
      "Sapatos\n",
      "Creatina\n"
     ]
    }
   ],
   "source": [
    "class ShoppingCart:\n",
    "  def __init__(self):\n",
    "    self.items = [] # Usaremos uma lista para armazenar os itens do carrinho\n",
    "\n",
    "  def add_item(self, item):\n",
    "    self.items.append(item)\n",
    "\n",
    "  def remove_item(self, item):\n",
    "    self.items.remove(item)\n",
    "\n",
    "  def show_items(self):\n",
    "    for item in self.items:\n",
    "      print(item)\n",
    "# Criando uma instância da classe\n",
    "cart = ShoppingCart()\n",
    "# Adicionando itens ao carrinho\n",
    "cart.add_item(\"Camiseta\")\n",
    "cart.add_item(\"Calça\")\n",
    "cart.add_item(\"Sapatos\")\n",
    "cart.add_item(\"Creatina\")\n",
    "# Exibindo os itens no carrinho\n",
    "print(\"Itens no carrinho:\")\n",
    "cart.show_items()\n",
    "# Removendo um item\n",
    "cart.remove_item(\"Camiseta\")\n",
    "# Exibindo os itens atualizados no carrinho\n",
    "print(\"\\nItens no carrinho após remoção:\")\n",
    "cart.show_items()"
   ]
  },
  {
   "cell_type": "markdown",
   "metadata": {
    "id": "yJ8HrkRNkeb6"
   },
   "source": [
    "**Exercício 1**\n",
    "\n",
    "Você foi contratado para criar um sistema de gerenciamento de alunos em uma escola. Sua tarefa é criar uma classe chamada Turma que funcionará como um contêiner para armazenar informações sobre os alunos de uma turma. A classe Turma deve incluir um construtor para inicializar os atributos e um destrutor para imprimir uma mensagem quando a instância for destruída. Além disso, você deve implementar métodos para adicionar e remover alunos da turma, bem como para listar os alunos matriculados.\n",
    "\n",
    "Requisitos:\n",
    "* A classe Turma deve conter um atributo alunos, que será uma lista para armazenar os nomes dos alunos.\n",
    "* O construtor __init__ deve aceitar o nome da turma como parâmetro e inicializar a lista de alunos.\n",
    "*A classe deve ter um método adicionar_aluno que permita adicionar um aluno à turma.\n",
    "*A classe deve ter um método remover_aluno que permita remover um aluno da turma.\n",
    "*A classe deve ter um método listar_alunos que exiba os nomes dos alunos matriculados.\n",
    "*O destrutor __del__ deve imprimir uma mensagem informando que a instância da turma está sendo destruída.\n"
   ]
  },
  {
   "cell_type": "code",
   "execution_count": 25,
   "metadata": {
    "id": "Ynj7Vemgkzfb"
   },
   "outputs": [
    {
     "name": "stdout",
     "output_type": "stream",
     "text": [
      "Aluno(a) Vinícius foi adicionado com sucesso a turma Primeiro período!\n",
      "Aluno(a) Matheus foi adicionado com sucesso a turma Primeiro período!\n",
      "Aluno(a) João foi adicionado com sucesso a turma Primeiro período!\n",
      "Aluno(a) Sofia foi adicionado com sucesso a turma Primeiro período!\n",
      "Aluno(a) Maria foi adicionado com sucesso a turma Primeiro período!\n",
      "Aluno(a) Matheus removido com sucesso da turma Primeiro período\n",
      "['Vinícius', 'João', 'Sofia', 'Maria'] matriculados na turma Primeiro período\n",
      "\n",
      "\n",
      "Aluno(a) Carlos foi adicionado com sucesso a turma Segundo periodo!\n",
      "Aluno(a) Vicenius foi adicionado com sucesso a turma Segundo periodo!\n",
      "Aluno(a) Maria Clara foi adicionado com sucesso a turma Segundo periodo!\n",
      "Aluno(a) Carlos removido com sucesso da turma Segundo periodo\n",
      "['Vicenius', 'Maria Clara'] matriculados na turma Segundo periodo\n"
     ]
    }
   ],
   "source": [
    "class Turma:\n",
    "    def __init__(self, nome_turma):\n",
    "        self.alunos = [] # a classe turma deve conter um atributo alunos, que será uma lista para armazenar os nomes dos alunos\n",
    "        self.nomet = nome_turma  #o parâmetro (nome_turma) definifido no construtor foi passado como atributo para que a turma tenha nome\n",
    "        \n",
    "    def adicionar_aluno(self, nome_aluno):\n",
    "        self.alunos.append(nome_aluno) #adicinando o parâmetro aluno na lista alunos\n",
    "        print(f\"Aluno(a) {nome_aluno} foi adicionado com sucesso a turma {self.nomet}!\") # aqui é usado {self.nomet}, pois ele é um atributo da classe Turma, ou seja, permanece constante a cada chamada do objeto, enquanto, se usarmos uo nome_turma, resultaria em uma chamada errônea\n",
    "\n",
    "    def remover_aluno(self, nome_aluno):\n",
    "        if nome_aluno in self.alunos:\n",
    "            self.alunos.remove(nome_aluno) # removendo aluno da lista\n",
    "            print(f\"Aluno(a) {nome_aluno} removido com sucesso da turma {self.nomet}\")\n",
    "        else:\n",
    "            print(f\"Aluno {nome_aluno} não foi encontrado na turma {self.nomet}\")\n",
    "\n",
    "    def listar_alunos(self):\n",
    "        if len (self.alunos) > 0:\n",
    "            print(f\"{self.alunos} matriculados na turma {self.nomet}\")\n",
    "        else:\n",
    "            print(f\"A turma {self.nomet} está vazia.\")\n",
    "\n",
    "    def _del_(self):\n",
    "        print(f\"a turma {self.nomet} foi apagada!\")\n",
    "\n",
    "\n",
    "turma1 = Turma(\"Primeiro período\")\n",
    "turma1.adicionar_aluno(\"Vinícius\")\n",
    "turma1.adicionar_aluno(\"Matheus\")\n",
    "turma1.adicionar_aluno(\"João\")\n",
    "turma1.adicionar_aluno(\"Sofia\")\n",
    "turma1.adicionar_aluno(\"Maria\")\n",
    "turma1.remover_aluno(\"Matheus\")\n",
    "turma1.listar_alunos()\n",
    "print(\"\\n\")\n",
    "turma2 = Turma(\"Segundo periodo\")\n",
    "turma2.adicionar_aluno(\"Carlos\")\n",
    "turma2.adicionar_aluno(\"Vicenius\")\n",
    "turma2.adicionar_aluno(\"Maria Clara\")\n",
    "turma2.remover_aluno(\"Carlos\")\n",
    "turma2.listar_alunos()"
   ]
  },
  {
   "cell_type": "markdown",
   "metadata": {
    "id": "o3jc03_JlBR7"
   },
   "source": [
    "**Encapsulamento**\n",
    "\n",
    "* O encapsulamento envolve a ideia de esconder os detalhes de implementação internos de uma classe.\n",
    "* Isso protege os atributos e métodos internos de acesso e manipulação indesejados.\n",
    "* Encapsulamento ajuda a manter a coesão e reduz o acoplamento entre classes.\n",
    "* Os membros protegidos são indicados por um único underscore (_) como prefixo (_nome).\n",
    "* Embora sejam acessíveis fora da classe, convenciona-se que devem ser tratados como \"privados\".\n",
    "* Os membros privados são indicados por dois underscores (__) como prefixo (__nome).\n",
    "* Eles são usados para indicar que o acesso deve ser restrito à própria classe.\n"
   ]
  },
  {
   "cell_type": "code",
   "execution_count": null,
   "metadata": {
    "id": "LguZLiSLljUX"
   },
   "outputs": [],
   "source": [
    "class Pessoa:\n",
    "    def __init__(self, nome):\n",
    "        self.nome = nome  # Atributo público\n",
    "\n",
    "Funcionario = Pessoa(\"Eduardo\")\n",
    "print(Funcionario.nome)\n"
   ]
  },
  {
   "cell_type": "code",
   "execution_count": null,
   "metadata": {
    "id": "-GCpbUZclnBF"
   },
   "outputs": [],
   "source": [
    "class Pessoa:\n",
    "    def __init__(self, nome):\n",
    "        self.__nome = nome  # Atributo protegido\n",
    "\n",
    "Funcionario = Pessoa(\"Eduardo\")\n",
    "print(Funcionario.__nome)\n"
   ]
  },
  {
   "cell_type": "markdown",
   "metadata": {
    "id": "MSVahFkIlzJL"
   },
   "source": [
    "**Exercício 2**\n",
    "\n",
    "Crie uma classe chamada ContaBancaria que encapsule informações sobre uma conta bancária. A classe deve ter os seguintes métodos públicos:\n",
    "* __init__(self, titular, saldo_inicial): Um construtor que recebe o nome do titular da conta e o saldo inicial e inicializa atributos privados _titular e _saldo.\n",
    "* depositar(self, valor): Um método que permite ao titular da conta depositar dinheiro na conta. Este método deve atualizar o saldo da conta.\n",
    "* sacar(self, valor): Um método que permite ao titular da conta sacar dinheiro da conta, desde que haja saldo suficiente. Este método deve atualizar o saldo da conta.\n",
    "* saldo(self): Um método que retorna o saldo atual da conta.\n",
    "* Certifique-se de que _saldo seja privado e que não possa ser acessado diretamente de fora da classe. Use métodos públicos para interagir com o saldo.\n"
   ]
  },
  {
   "cell_type": "code",
   "execution_count": 34,
   "metadata": {
    "id": "PQ88Ceo0l_0Y"
   },
   "outputs": [
    {
     "name": "stdout",
     "output_type": "stream",
     "text": [
      "Depósito de R$500.00 realizado com sucesso!!\n",
      "Saque de R$200.00 realizado com sucesso\n",
      "O saldo do titular Ferreira é de R$1300.00\n"
     ]
    }
   ],
   "source": [
    "class ContaBancaria:\n",
    "    def __init__(self, titular, saldo_inicial=0):\n",
    "        self.__titular = titular\n",
    "        self.__saldo = saldo_inicial\n",
    "\n",
    "    def depositar(self, valor):\n",
    "        self.__valor =  valor\n",
    "        if valor >= 0:\n",
    "            self.__saldo += valor\n",
    "            print(f\"Depósito de R${valor:.2f} realizado com sucesso!!\")\n",
    "        else:\n",
    "            print(f\"Valor de depósito inválido\")\n",
    "\n",
    "    def sacar(self, valor):\n",
    "        if valor > 0 and valor <= self.__saldo:\n",
    "            self.__saldo -= valor\n",
    "            print(f\"Saque de R${valor:.2f} realizado com sucesso\")\n",
    "        else:\n",
    "            print(f\"Valor inválido\")\n",
    "    \n",
    "    def saldo(self):\n",
    "        print(f\"O saldo do titular {self.__titular} é de R${self.__saldo:.2f}\")\n",
    "        \n",
    "# Criando uma instância da classe ContaBancaria\n",
    "conta = ContaBancaria(\"Ferreira\", 1000)\n",
    "\n",
    "# Depositando dinheiro na conta\n",
    "conta.depositar(500)\n",
    "\n",
    "# Sacando dinheiro da conta\n",
    "conta.sacar(200)\n",
    "\n",
    "# Verificando o saldo da conta\n",
    "conta.saldo()\n"
   ]
  },
  {
   "cell_type": "markdown",
   "metadata": {
    "id": "XBt1oFHImEEK"
   },
   "source": [
    "**Métodos Get e Set na POO**\n",
    "\n",
    "* Na programação orientada a objetos (POO), os métodos Get e Set são utilizados para acessar e modificar os atributos de uma classe de maneira controlada.\n",
    "* Eles desempenham um papel importante na aplicação do princípio de encapsulamento, que visa proteger os atributos de uma classe e fornecer uma interface controlada para interagir com eles.\n"
   ]
  },
  {
   "cell_type": "code",
   "execution_count": null,
   "metadata": {
    "id": "_V6lBIJamPWD"
   },
   "outputs": [],
   "source": [
    "class Pessoa:\n",
    "    def __init__(self, nome):\n",
    "        self.__nome = nome  # Atributo privado\n",
    "\n",
    "    def get_nome(self):\n",
    "        return self.__nome  # Método get para acessar o atributo privado\n",
    "\n",
    "pessoa = Pessoa(\"Alice\")\n",
    "nome_da_pessoa = pessoa.get_nome()\n",
    "print(nome_da_pessoa)  # Saída: Alice\n"
   ]
  },
  {
   "cell_type": "code",
   "execution_count": null,
   "metadata": {
    "id": "_kItleQCmZZ0"
   },
   "outputs": [],
   "source": [
    "class ContaBancaria:\n",
    "    def __init__(self):\n",
    "        self.__saldo = 0  # Atributo privado\n",
    "\n",
    "    def set_saldo(self, novo_saldo):\n",
    "        if novo_saldo >= 0:\n",
    "            self.__saldo = novo_saldo  # Método set com validação\n",
    "\n",
    "    def get_saldo(self):\n",
    "        return self.__saldo\n",
    "\n",
    "conta = ContaBancaria()\n",
    "conta.set_saldo(1000)\n",
    "print(conta.get_saldo())  # Saída: 1000\n",
    "conta.set_saldo(-500)  # Não alterará o saldo, pois a validação falha\n",
    "print(conta.get_saldo())  # Ainda será 1000\n"
   ]
  },
  {
   "cell_type": "markdown",
   "metadata": {
    "id": "bFddJqlDmovH"
   },
   "source": [
    "**Exercício 3**\n",
    "\n",
    "Encapsule os atributos da classe Pessoa para torná-los privados e forneça métodos get e set para acessá-los."
   ]
  },
  {
   "cell_type": "code",
   "execution_count": null,
   "metadata": {
    "id": "SqQ8jg25mtgp"
   },
   "outputs": [],
   "source": [
    "class Pessoa:\n",
    "    def __init__(self, nome, idade, sexo):\n",
    "        self.nome = nome\n",
    "        self.idade = idade\n",
    "        self.sexo = sexo"
   ]
  },
  {
   "cell_type": "markdown",
   "metadata": {
    "id": "kizXgYmvm3Su"
   },
   "source": [
    "**Métodos de Classe**\n",
    "\n",
    "* Os métodos de classe em Python não dependem do estado da instância.\n",
    "* Eles são declarados com o decorador @classmethod.\n",
    "* São usados quando queremos operar na classe em vez de em uma instância.\n",
    "* Observação: A principal diferença entre o parâmetro cls e o parâmetro self (usado em métodos de instância) é que self refere-se à instância específica da classe, enquanto cls refere-se à própria classe.\n",
    "* Isso torna cls útil para operações que envolvem a classe como um todo e para definir métodos de classe.\n"
   ]
  },
  {
   "cell_type": "code",
   "execution_count": null,
   "metadata": {
    "id": "jEbmf3NOnIm0"
   },
   "outputs": [],
   "source": [
    "class MathUtils:\n",
    "    @classmethod\n",
    "    def square(cls, num):\n",
    "        return num ** 2\n",
    "\n",
    "print(MathUtils.square(5))\n"
   ]
  },
  {
   "cell_type": "markdown",
   "metadata": {
    "id": "tijE8qYynUNw"
   },
   "source": [
    "**Exercício 4**\n",
    "\n",
    "Crie uma classe chamada Matematica com um método de classe que calcula a média de uma lista de números."
   ]
  },
  {
   "cell_type": "code",
   "execution_count": null,
   "metadata": {
    "id": "2fPs2GZTnaBV"
   },
   "outputs": [],
   "source": []
  },
  {
   "cell_type": "markdown",
   "metadata": {
    "id": "sFCaUYOQnas6"
   },
   "source": [
    "**Métodos Estáticos**\n",
    "\n",
    "* São métodos definidos em uma classe que não dependem de atributos específicos de instância ou de classe.\n",
    "* Eles são métodos que não requerem acesso a atributos ou métodos de instância e, portanto, não recebem o parâmetro self.\n",
    "* Os métodos estáticos são associados à classe em vez de instâncias individuais, e podem ser chamados diretamente na classe sem a necessidade de criar um objeto.\n",
    "* Métodos estáticos são úteis quando você precisa de uma funcionalidade que pertence à classe como um todo, mas não precisa acessar os atributos específicos de instância ou classe.\n",
    "* Eles são definidos usando o decorador @staticmethod antes da definição do método.\n"
   ]
  },
  {
   "cell_type": "code",
   "execution_count": null,
   "metadata": {
    "id": "UJqr1wIznlML"
   },
   "outputs": [],
   "source": [
    "class MathUtils:\n",
    "    @staticmethod\n",
    "    def add(a, b):\n",
    "        return a + b\n",
    "\n",
    "    @staticmethod\n",
    "    def subtract(a, b):\n",
    "        return a - b\n",
    "\n",
    "# Chamando métodos estáticos diretamente na classe\n",
    "sum_result = MathUtils.add(5, 3)\n",
    "diff_result = MathUtils.subtract(10, 7)\n",
    "\n",
    "print(\"Soma:\", sum_result)      # Saída: Soma: 8\n",
    "print(\"Subtração:\", diff_result) # Saída: Subtração: 3\n"
   ]
  },
  {
   "cell_type": "markdown",
   "metadata": {
    "id": "HU_qihVUoGVn"
   },
   "source": [
    "**Exercício 5**\n",
    "\n",
    "Crie um método estático na classe Carro que imprime uma mensagem genérica sobre carros."
   ]
  },
  {
   "cell_type": "code",
   "execution_count": null,
   "metadata": {
    "id": "RtEy2h0woNaa"
   },
   "outputs": [],
   "source": []
  },
  {
   "cell_type": "markdown",
   "metadata": {
    "id": "5-yRAr5dntBk"
   },
   "source": [
    "**Slots**\n",
    "\n",
    "* Os slots (também conhecidos como \"caixas\") são uma característica que permite otimizar a utilização de memória e acelerar o acesso a atributos em objetos.\n",
    "* A ideia principal dos slots é restringir dinamicamente os atributos que podem ser definidos em uma instância de classe, o que pode ser útil em situações onde você precisa controlar os atributos que podem ser adicionados a objetos.\n",
    "* Normalmente, em Python, você pode adicionar atributos a objetos em tempo de execução, mesmo que eles não tenham sido definidos na classe.\n",
    "* Isso é possível graças à flexibilidade dinâmica da linguagem.\n",
    "* No entanto, essa flexibilidade pode ter um impacto negativo na utilização de memória, principalmente quando você tem muitas instâncias da mesma classe.\n",
    "* Os slots permitem definir explicitamente quais atributos uma classe pode ter e, consequentemente, otimizar o consumo de memória. Isso é feito através da definição de uma lista de nomes de atributos permitidos na forma de uma variável de classe chamada __slots__.\n"
   ]
  },
  {
   "cell_type": "code",
   "execution_count": null,
   "metadata": {
    "id": "by-rrYiln57H"
   },
   "outputs": [],
   "source": [
    "class Pessoa:\n",
    "    __slots__ = [\"nome\", \"idade\"]\n",
    "\n",
    "    def __init__(self, nome, idade):\n",
    "        self.nome = nome\n",
    "        self.idade = idade\n",
    "\n",
    "pessoa = Pessoa(\"Alice\", 30)\n",
    "print(pessoa.nome)   # Saída: Alice\n",
    "print(pessoa.idade)  # Saída: 30\n",
    "\n",
    "pessoa.email = \"alice@example.com\"  # Isso resultará em um erro, pois \"email\" não está nos slots\n"
   ]
  },
  {
   "cell_type": "markdown",
   "metadata": {
    "id": "kI6-XQv4oURz"
   },
   "source": [
    "**Exercício 6**\n",
    "\n",
    "Crie uma classe Estudante com atributos como nome, idade e matrícula. Use slots para otimizar a memória."
   ]
  },
  {
   "cell_type": "code",
   "execution_count": null,
   "metadata": {
    "id": "wtex83ReodwK"
   },
   "outputs": [],
   "source": []
  }
 ],
 "metadata": {
  "colab": {
   "provenance": []
  },
  "kernelspec": {
   "display_name": ".venv",
   "language": "python",
   "name": "python3"
  },
  "language_info": {
   "codemirror_mode": {
    "name": "ipython",
    "version": 3
   },
   "file_extension": ".py",
   "mimetype": "text/x-python",
   "name": "python",
   "nbconvert_exporter": "python",
   "pygments_lexer": "ipython3",
   "version": "3.10.12"
  }
 },
 "nbformat": 4,
 "nbformat_minor": 0
}
