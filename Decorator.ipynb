{
  "cells": [
    {
      "cell_type": "markdown",
      "metadata": {
        "id": "_wVe2jvU4PZE"
      },
      "source": [
        "#**Decorator**\n",
        "\n",
        "O que é um Decorator?\n",
        "\n",
        "Um decorator é uma função que permite adicionar funcionalidades a outra função de maneira dinâmica e elegante.\n",
        "\n",
        "Como Funciona?\n",
        "\n",
        "Um decorator recebe uma função como argumento e retorna uma nova função que a encapsula, permitindo a modificação do comportamento da função original.\n",
        "\n",
        "Vantagens dos Decorators\n",
        "\n",
        "Os decorators promovem a reutilização de código e a separação de preocupações, deixando o código mais limpo e organizado\n"
      ]
    },
    {
      "cell_type": "code",
      "execution_count": 1,
      "metadata": {
        "colab": {
          "base_uri": "https://localhost:8080/"
        },
        "id": "4ArDLHUw4wrj",
        "outputId": "5018678f-0580-43a9-887d-f67e82e8f8dc"
      },
      "outputs": [
        {
          "name": "stdout",
          "output_type": "stream",
          "text": [
            "Olá! Antes da função...\n",
            "Oi, tudo bem?\n",
            "Tchau! Depois da função...\n"
          ]
        }
      ],
      "source": [
        "def saudacao(func):\n",
        "    def wrapper():\n",
        "        print(\"Olá! Antes da função...\")\n",
        "        func()\n",
        "        print(\"Tchau! Depois da função...\")\n",
        "    return wrapper\n",
        "\n",
        "@saudacao\n",
        "def diz_oi():\n",
        "    print(\"Oi, tudo bem?\")\n",
        "\n",
        "diz_oi()\n"
      ]
    },
    {
      "cell_type": "code",
      "execution_count": null,
      "metadata": {
        "colab": {
          "base_uri": "https://localhost:8080/"
        },
        "id": "wASiRSpw5l8B",
        "outputId": "fc45eb21-c9cb-481e-cb21-b6e42846ee1b"
      },
      "outputs": [
        {
          "name": "stdout",
          "output_type": "stream",
          "text": [
            "Antes da função!\n",
            "Comendo pizza...\n",
            "Depois da função!\n"
          ]
        }
      ],
      "source": [
        "def meu_decorador(pizza):  # Aqui poderia ser \"func\", mas usamos \"pizza\"\n",
        "    def cobertura():\n",
        "        print(\"Antes da função!\")\n",
        "        pizza()\n",
        "        print(\"Depois da função!\")\n",
        "    return cobertura\n",
        "\n",
        "@meu_decorador\n",
        "def jantar():\n",
        "    print(\"Comendo pizza...\")\n",
        "\n",
        "jantar()\n"
      ]
    },
    {
      "cell_type": "markdown",
      "metadata": {
        "id": "fP50wDDq5FIE"
      },
      "source": [
        "#**Sintaxe dos decorators em Python**\n",
        "\n",
        "* Uso do símbolo '@'\n",
        "\n",
        "A sintaxe de decorators começa com o símbolo '@', que indica a aplicação de um decorator a uma função específica.\n",
        "\n",
        "* Código mais limpo\n",
        "\n",
        "Utilizar decorators permite que o código Python fique mais limpo e expressivo, melhorando a legibilidade e a manutenção do código.\n",
        "\n",
        "* Aplicação acima da função\n",
        "\n",
        "Os decorators são aplicados diretamente acima da definição da função que\n",
        "queremos modificar, facilitando a visualização e o uso.\n",
        "\n",
        "# O que acontece por baixo dos panos:"
      ]
    },
    {
      "cell_type": "code",
      "execution_count": 2,
      "metadata": {
        "colab": {
          "base_uri": "https://localhost:8080/"
        },
        "id": "ZlDpy_1a6y_j",
        "outputId": "8c73bcce-6063-40a3-8e13-8f6685651c15"
      },
      "outputs": [
        {
          "name": "stdout",
          "output_type": "stream",
          "text": [
            "Olá! Antes da função...\n",
            "Olá, mundo!\n",
            "Tchau! Depois da função...\n"
          ]
        }
      ],
      "source": [
        "def diz_ola():\n",
        "    print(\"Olá, mundo!\")\n",
        "\n",
        "decorada = saudacao(diz_ola)\n",
        "decorada()\n"
      ]
    },
    {
      "cell_type": "markdown",
      "metadata": {
        "id": "KXtfPPJB5ldX"
      },
      "source": [
        "**Aplicações Práticas dos Decorators:**\n",
        "\n",
        "* Logging de funções\n",
        "* Controle de acesso e autenticação\n",
        "* Monitoramento de desempenho\n"
      ]
    },
    {
      "cell_type": "code",
      "execution_count": 9,
      "metadata": {
        "colab": {
          "base_uri": "https://localhost:8080/"
        },
        "id": "rhCIUNYo8PEh",
        "outputId": "dd2a1f5f-86f3-4d63-a866-23f853655470"
      },
      "outputs": [
        {
          "name": "stdout",
          "output_type": "stream",
          "text": [
            "Tarefa concluída!\n",
            "Executado em 0.0001 segundos.\n"
          ]
        }
      ],
      "source": [
        "import time\n",
        "\n",
        "def medir_tempo(func):\n",
        "    def wrapper(*args, **kwargs):\n",
        "        inicio = time.time()\n",
        "        resultado = func(*args, **kwargs)\n",
        "        fim = time.time()\n",
        "        print(f\"Executado em {fim - inicio:.4f} segundos.\")\n",
        "        return resultado\n",
        "    return wrapper\n",
        "\n",
        "@medir_tempo\n",
        "def tarefa_lenta():\n",
        "    time.sleep(0)\n",
        "    print(\"Tarefa concluída!\")\n",
        "\n",
        "tarefa_lenta()\n"
      ]
    },
    {
      "cell_type": "code",
      "execution_count": 10,
      "metadata": {
        "colab": {
          "base_uri": "https://localhost:8080/"
        },
        "id": "xR_xW6VE80hg",
        "outputId": "314a109b-049e-470d-ccd9-d19b61bd7664"
      },
      "outputs": [
        {
          "name": "stdout",
          "output_type": "stream",
          "text": [
            "Acesso autorizado ao sistema!\n",
            "Senha incorreta.\n"
          ]
        }
      ],
      "source": [
        "def requer_senha(senha_correta):\n",
        "    def decorator(func):\n",
        "        def wrapper(senha_digitada):\n",
        "            if senha_digitada == senha_correta:\n",
        "                return func()\n",
        "            else:\n",
        "                print(\"Senha incorreta.\")\n",
        "        return wrapper\n",
        "    return decorator\n",
        "\n",
        "@requer_senha(\"1234\")\n",
        "def acessar_sistema():\n",
        "    print(\"Acesso autorizado ao sistema!\")\n",
        "\n",
        "acessar_sistema(\"1234\")\n",
        "acessar_sistema(\"9999\")\n"
      ]
    },
    {
      "cell_type": "markdown",
      "metadata": {
        "id": "X4mJmdT-56xo"
      },
      "source": [
        "**Considerações Finais:**\n",
        "\n",
        "\n",
        "Os decorators permitem adicionar funcionalidades a funções e métodos de forma elegante, mantendo o código limpo e organizado.\n",
        "\n",
        "\n",
        "Com os decorators, você pode reutilizar funcionalidades em diferentes partes do código, promovendo a flexibilidade e a eficiência.\n",
        "\n",
        "\n",
        "Compreender e utilizar decorators é essencial para desenvolvedores Python que almejam escrever código mais eficaz e legível.\n"
      ]
    },
    {
      "cell_type": "markdown",
      "metadata": {
        "id": "5ozoRMuCD68p"
      },
      "source": [
        "**Exercício**\n",
        "\n",
        "Crie um decorator maiusculas que transforme o texto de saída de uma função em letras maiúsculas."
      ]
    },
    {
      "cell_type": "code",
      "execution_count": 31,
      "metadata": {
        "id": "espl2GsQEBl4"
      },
      "outputs": [
        {
          "name": "stdout",
          "output_type": "stream",
          "text": [
            "SAUDAÇÃO LAZARO E ROGERIO E CASSIO E KEVIN!\n"
          ]
        }
      ],
      "source": [
        "def maiusculas(func):\n",
        "    def wrapper(*args):  \n",
        "        resultado = func(*args)  \n",
        "        return resultado.upper()  \n",
        "    return wrapper\n",
        "\n",
        "@maiusculas\n",
        "def saudacao(*nome):\n",
        "    return f\"saudação {' e '.join(nome)}!\"\n",
        "\n",
        "print(saudacao(\"lazaro\", \"Rogerio\", \"Cassio\", \"Kevin\"))\n",
        "\n",
        "#ou\n",
        "\n",
        "def maiusculas(func):\n",
        "    def wrapper(texto):  \n",
        "        if isinstance(texto, str):\n",
        "            resultado = func(texto)  \n",
        "        return resultado.upper()  \n",
        "    return wrapper\n",
        "\n",
        "@maiusculas\n",
        "def saudacao(nome):\n",
        "    return f\"Saudação {nome}\"\n",
        "\n",
        "print(saudacao(\"lazaro\"))\n"
      ]
    }
  ],
  "metadata": {
    "colab": {
      "provenance": []
    },
    "kernelspec": {
      "display_name": "Python 3",
      "name": "python3"
    },
    "language_info": {
      "codemirror_mode": {
        "name": "ipython",
        "version": 3
      },
      "file_extension": ".py",
      "mimetype": "text/x-python",
      "name": "python",
      "nbconvert_exporter": "python",
      "pygments_lexer": "ipython3",
      "version": "3.10.12"
    }
  },
  "nbformat": 4,
  "nbformat_minor": 0
}
